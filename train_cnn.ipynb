{
 "cells": [
  {
   "cell_type": "code",
   "source": [
    "!git clone https://github.com/jan1na/Neural-Cellular-Automata.git\n",
    "\n",
    "%cd Neural-Cellular-Automata"
   ],
   "metadata": {
    "id": "TzhNplflMetX",
    "outputId": "bdfb5db1-40f3-4231-b1f2-543837c63d28",
    "colab": {
     "base_uri": "https://localhost:8080/"
    }
   },
   "id": "TzhNplflMetX",
   "execution_count": 1,
   "outputs": [
    {
     "output_type": "stream",
     "name": "stdout",
     "text": [
      "Cloning into 'Neural-Cellular-Automata'...\n",
      "remote: Enumerating objects: 18, done.\u001B[K\n",
      "remote: Counting objects: 100% (18/18), done.\u001B[K\n",
      "remote: Compressing objects: 100% (12/12), done.\u001B[K\n",
      "remote: Total 18 (delta 7), reused 8 (delta 4), pack-reused 0 (from 0)\u001B[K\n",
      "Receiving objects: 100% (18/18), 9.41 KiB | 9.41 MiB/s, done.\n",
      "Resolving deltas: 100% (7/7), done.\n",
      "/content/Neural-Cellular-Automata\n"
     ]
    }
   ]
  },
  {
   "cell_type": "code",
   "execution_count": 2,
   "id": "initial_id",
   "metadata": {
    "collapsed": true,
    "id": "initial_id",
    "outputId": "9edf1785-f057-4e4f-afae-19d1c45aa576",
    "colab": {
     "base_uri": "https://localhost:8080/"
    }
   },
   "outputs": [
    {
     "output_type": "stream",
     "name": "stdout",
     "text": [
      "\u001B[?25l     \u001B[90m━━━━━━━━━━━━━━━━━━━━━━━━━━━━━━━━━━━━━━━━\u001B[0m \u001B[32m0.0/87.2 kB\u001B[0m \u001B[31m?\u001B[0m eta \u001B[36m-:--:--\u001B[0m\r\u001B[2K     \u001B[90m━━━━━━━━━━━━━━━━━━━━━━━━━━━━━━━━━━━━━━━━\u001B[0m \u001B[32m87.2/87.2 kB\u001B[0m \u001B[31m3.7 MB/s\u001B[0m eta \u001B[36m0:00:00\u001B[0m\n",
      "\u001B[?25h  Preparing metadata (setup.py) ... \u001B[?25l\u001B[?25hdone\n",
      "\u001B[2K   \u001B[90m━━━━━━━━━━━━━━━━━━━━━━━━━━━━━━━━━━━━━━━━\u001B[0m \u001B[32m363.4/363.4 MB\u001B[0m \u001B[31m3.8 MB/s\u001B[0m eta \u001B[36m0:00:00\u001B[0m\n",
      "\u001B[2K   \u001B[90m━━━━━━━━━━━━━━━━━━━━━━━━━━━━━━━━━━━━━━━━\u001B[0m \u001B[32m13.8/13.8 MB\u001B[0m \u001B[31m85.7 MB/s\u001B[0m eta \u001B[36m0:00:00\u001B[0m\n",
      "\u001B[2K   \u001B[90m━━━━━━━━━━━━━━━━━━━━━━━━━━━━━━━━━━━━━━━━\u001B[0m \u001B[32m24.6/24.6 MB\u001B[0m \u001B[31m72.2 MB/s\u001B[0m eta \u001B[36m0:00:00\u001B[0m\n",
      "\u001B[2K   \u001B[90m━━━━━━━━━━━━━━━━━━━━━━━━━━━━━━━━━━━━━━━━\u001B[0m \u001B[32m883.7/883.7 kB\u001B[0m \u001B[31m45.9 MB/s\u001B[0m eta \u001B[36m0:00:00\u001B[0m\n",
      "\u001B[2K   \u001B[90m━━━━━━━━━━━━━━━━━━━━━━━━━━━━━━━━━━━━━━━\u001B[0m \u001B[32m664.8/664.8 MB\u001B[0m \u001B[31m794.2 kB/s\u001B[0m eta \u001B[36m0:00:00\u001B[0m\n",
      "\u001B[2K   \u001B[90m━━━━━━━━━━━━━━━━━━━━━━━━━━━━━━━━━━━━━━━━\u001B[0m \u001B[32m211.5/211.5 MB\u001B[0m \u001B[31m4.7 MB/s\u001B[0m eta \u001B[36m0:00:00\u001B[0m\n",
      "\u001B[2K   \u001B[90m━━━━━━━━━━━━━━━━━━━━━━━━━━━━━━━━━━━━━━━━\u001B[0m \u001B[32m56.3/56.3 MB\u001B[0m \u001B[31m12.0 MB/s\u001B[0m eta \u001B[36m0:00:00\u001B[0m\n",
      "\u001B[2K   \u001B[90m━━━━━━━━━━━━━━━━━━━━━━━━━━━━━━━━━━━━━━━━\u001B[0m \u001B[32m127.9/127.9 MB\u001B[0m \u001B[31m7.6 MB/s\u001B[0m eta \u001B[36m0:00:00\u001B[0m\n",
      "\u001B[2K   \u001B[90m━━━━━━━━━━━━━━━━━━━━━━━━━━━━━━━━━━━━━━━━\u001B[0m \u001B[32m207.5/207.5 MB\u001B[0m \u001B[31m6.4 MB/s\u001B[0m eta \u001B[36m0:00:00\u001B[0m\n",
      "\u001B[2K   \u001B[90m━━━━━━━━━━━━━━━━━━━━━━━━━━━━━━━━━━━━━━━━\u001B[0m \u001B[32m21.1/21.1 MB\u001B[0m \u001B[31m26.9 MB/s\u001B[0m eta \u001B[36m0:00:00\u001B[0m\n",
      "\u001B[?25h  Building wheel for fire (setup.py) ... \u001B[?25l\u001B[?25hdone\n",
      "Mounted at /content/drive\n"
     ]
    }
   ],
   "source": [
    "!pip install -q medmnist\n",
    "\n",
    "import torch\n",
    "import torch.nn as nn\n",
    "import torch.nn.functional as F\n",
    "from torch.utils.data import DataLoader\n",
    "from torchvision import transforms\n",
    "from medmnist import PathMNIST\n",
    "import medmnist\n",
    "from tqdm import tqdm\n",
    "from train_utils import train, evaluate, plot_training_history\n",
    "from models import CNNBaseline\n",
    "\n",
    "from google.colab import drive\n",
    "drive.mount('/content/drive')"
   ]
  },
  {
   "cell_type": "code",
   "execution_count": null,
   "outputs": [],
   "source": [
    "from google.colab import drive\n",
    "import os\n",
    "import shutil\n",
    "\n",
    "drive_folder = \"/content/drive/MyDrive/NCA/DATA\"\n",
    "cache_dir = os.path.expanduser(\"~/.medmnist\")\n",
    "os.makedirs(cache_dir, exist_ok=True)\n",
    "\n",
    "\n",
    "filename = f\"pathmnist.npz\"\n",
    "src = os.path.join(drive_folder, filename)\n",
    "dst = os.path.join(cache_dir, filename)\n",
    "\n",
    "if os.path.exists(src):\n",
    "    shutil.copyfile(src, dst)\n",
    "    print(f\"Copied {filename} to cache.\")\n",
    "else:\n",
    "    print(f\"File not found in Drive: {filename}\")"
   ],
   "metadata": {
    "collapsed": false
   },
   "id": "ec1415753493b6f"
  },
  {
   "cell_type": "code",
   "execution_count": 3,
   "outputs": [
    {
     "output_type": "stream",
     "name": "stderr",
     "text": [
      "100%|██████████| 206M/206M [01:41<00:00, 2.02MB/s]\n"
     ]
    }
   ],
   "source": [
    "transform = transforms.Compose([transforms.ToTensor()])\n",
    "train_dataset = PathMNIST(split='train', transform=transform, download=False)\n",
    "val_dataset = PathMNIST(split='val', transform=transform, download=False)\n",
    "\n",
    "train_loader = DataLoader(train_dataset, batch_size=64, shuffle=True)\n",
    "val_loader = DataLoader(val_dataset, batch_size=64, shuffle=False)\n"
   ],
   "metadata": {
    "id": "fff4da284ea52c16",
    "outputId": "d6b55a2e-8e59-456e-d14a-a43299749d8a",
    "colab": {
     "base_uri": "https://localhost:8080/"
    }
   },
   "id": "fff4da284ea52c16"
  },
  {
   "cell_type": "code",
   "execution_count": 5,
   "outputs": [
    {
     "output_type": "stream",
     "name": "stdout",
     "text": [
      "Epoch 01: Train Acc = 0.5577, Val Acc = 0.6647\n",
      "Best model saved to: /content/drive/MyDrive/NCA/best_cnn_pathmnist.pth\n",
      "Epoch 02: Train Acc = 0.6954, Val Acc = 0.7408\n",
      "Best model saved to: /content/drive/MyDrive/NCA/best_cnn_pathmnist.pth\n",
      "Epoch 03: Train Acc = 0.7357, Val Acc = 0.7486\n",
      "Best model saved to: /content/drive/MyDrive/NCA/best_cnn_pathmnist.pth\n",
      "Epoch 04: Train Acc = 0.7650, Val Acc = 0.7648\n",
      "Best model saved to: /content/drive/MyDrive/NCA/best_cnn_pathmnist.pth\n",
      "Epoch 05: Train Acc = 0.7878, Val Acc = 0.8146\n",
      "Best model saved to: /content/drive/MyDrive/NCA/best_cnn_pathmnist.pth\n",
      "Epoch 06: Train Acc = 0.8035, Val Acc = 0.8305\n",
      "Best model saved to: /content/drive/MyDrive/NCA/best_cnn_pathmnist.pth\n",
      "Epoch 07: Train Acc = 0.8156, Val Acc = 0.8138\n",
      "Epoch 08: Train Acc = 0.8273, Val Acc = 0.8345\n",
      "Best model saved to: /content/drive/MyDrive/NCA/best_cnn_pathmnist.pth\n",
      "Epoch 09: Train Acc = 0.8373, Val Acc = 0.8603\n",
      "Best model saved to: /content/drive/MyDrive/NCA/best_cnn_pathmnist.pth\n",
      "Epoch 10: Train Acc = 0.8410, Val Acc = 0.8619\n",
      "Best model saved to: /content/drive/MyDrive/NCA/best_cnn_pathmnist.pth\n",
      "Epoch 11: Train Acc = 0.8526, Val Acc = 0.8613\n",
      "Epoch 12: Train Acc = 0.8604, Val Acc = 0.8746\n",
      "Best model saved to: /content/drive/MyDrive/NCA/best_cnn_pathmnist.pth\n",
      "Epoch 13: Train Acc = 0.8678, Val Acc = 0.8879\n",
      "Best model saved to: /content/drive/MyDrive/NCA/best_cnn_pathmnist.pth\n",
      "Epoch 14: Train Acc = 0.8726, Val Acc = 0.8846\n",
      "Epoch 15: Train Acc = 0.8783, Val Acc = 0.8811\n",
      "Epoch 16: Train Acc = 0.8800, Val Acc = 0.8893\n",
      "Best model saved to: /content/drive/MyDrive/NCA/best_cnn_pathmnist.pth\n",
      "Epoch 17: Train Acc = 0.8860, Val Acc = 0.8881\n",
      "Epoch 18: Train Acc = 0.8897, Val Acc = 0.8878\n",
      "Epoch 19: Train Acc = 0.8928, Val Acc = 0.9047\n",
      "Best model saved to: /content/drive/MyDrive/NCA/best_cnn_pathmnist.pth\n",
      "Converged with >90% accuracy!\n",
      "🎉 Training complete.\n"
     ]
    }
   ],
   "source": [
    "device = torch.device('cuda' if torch.cuda.is_available() else 'cpu')\n",
    "model = CNNBaseline().to(device)\n",
    "optimizer = torch.optim.Adam(model.parameters(), lr=1e-3)\n",
    "criterion = nn.CrossEntropyLoss()\n",
    "\n",
    "save_path = '/content/drive/MyDrive/NCA/best_cnn_pathmnist.pth'\n",
    "plot_save_path = '/content/drive/MyDrive/NCA/cnn_training_history.png'\n",
    "train_losses, val_losses = [], []\n",
    "train_accuracies, val_accuracies = [], []\n",
    "\n",
    "best_acc = 0.0\n",
    "\n",
    "for epoch in range(1, 31):\n",
    "    train_loss, train_acc = train(model, train_loader, optimizer, criterion, device)\n",
    "    val_loss, val_acc = evaluate(model, val_loader, criterion, device)\n",
    "\n",
    "    # Save for plotting\n",
    "    train_losses.append(train_loss)\n",
    "    val_losses.append(val_loss)\n",
    "    train_accuracies.append(train_acc)\n",
    "    val_accuracies.append(val_acc)\n",
    "\n",
    "    print(f\"Epoch {epoch:02d}: Train Acc = {train_acc:.4f}, Val Acc = {val_acc:.4f}\")\n",
    "\n",
    "    if val_acc > best_acc:\n",
    "        best_acc = val_acc\n",
    "        torch.save(model.state_dict(), save_path)\n",
    "        print(f\"Best model saved to: {save_path}\")\n",
    "\n",
    "    if val_acc > 0.90:\n",
    "        print(\"Converged with >90% accuracy!\")\n",
    "        break\n",
    "\n",
    "print(\"Training complete.\")\n",
    "\n",
    "plot_training_history(train_losses, val_losses, train_accuracies, val_accuracies, plot_save_path)"
   ],
   "metadata": {
    "id": "b7ea74b088f598a0",
    "outputId": "d36baeeb-3e22-42fc-9cd0-adc398c05125",
    "colab": {
     "base_uri": "https://localhost:8080/"
    }
   },
   "id": "b7ea74b088f598a0"
  }
 ],
 "metadata": {
  "kernelspec": {
   "display_name": "Python 3",
   "language": "python",
   "name": "python3"
  },
  "language_info": {
   "codemirror_mode": {
    "name": "ipython",
    "version": 2
   },
   "file_extension": ".py",
   "mimetype": "text/x-python",
   "name": "python",
   "nbconvert_exporter": "python",
   "pygments_lexer": "ipython2",
   "version": "2.7.6"
  },
  "colab": {
   "provenance": []
  }
 },
 "nbformat": 4,
 "nbformat_minor": 5
}
