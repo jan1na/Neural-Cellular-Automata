{
 "cells": [
  {
   "cell_type": "code",
   "execution_count": null,
   "id": "initial_id",
   "metadata": {
    "collapsed": true
   },
   "outputs": [],
   "source": [
    "!pip install medmnist torch torchvision tqdm\n",
    "\n",
    "import torch\n",
    "import torch.nn as nn\n",
    "import torch.nn.functional as F\n",
    "from torchvision import transforms\n",
    "from torch.utils.data import DataLoader\n",
    "from medmnist import PathMNIST\n",
    "import medmnist\n",
    "from tqdm import tqdm\n",
    "from train_utils import train, evaluate\n",
    "\n",
    "# Mount Google Drive\n",
    "from google.colab import drive\n",
    "drive.mount('/content/drive')"
   ]
  },
  {
   "cell_type": "code",
   "execution_count": null,
   "outputs": [],
   "source": [
    "medmnist.INFO['pathmnist']['download'] = True\n",
    "\n",
    "transform = transforms.Compose([transforms.ToTensor()])\n",
    "\n",
    "train_dataset = PathMNIST(split='train', transform=transform, download=True)\n",
    "val_dataset = PathMNIST(split='val', transform=transform, download=True)\n",
    "\n",
    "train_loader = DataLoader(train_dataset, batch_size=32, shuffle=True)\n",
    "val_loader = DataLoader(val_dataset, batch_size=32, shuffle=False)\n",
    "\n",
    "NUM_CLASSES = 9"
   ],
   "metadata": {
    "collapsed": false
   },
   "id": "a3f9508be3450197"
  },
  {
   "cell_type": "code",
   "execution_count": null,
   "outputs": [],
   "source": [
    "class NCA(nn.Module):\n",
    "    def __init__(self, state_dim=16, num_classes=9, num_steps=8):\n",
    "        super().__init__()\n",
    "        self.state_dim = state_dim\n",
    "        self.num_steps = num_steps\n",
    "        self.perceive = nn.Conv2d(state_dim, 128, kernel_size=3, padding=1)\n",
    "        self.update = nn.Sequential(\n",
    "            nn.ReLU(),\n",
    "            nn.Conv2d(128, state_dim, kernel_size=1)\n",
    "        )\n",
    "        self.readout = nn.Sequential(\n",
    "            nn.Conv2d(state_dim, 64, 1),\n",
    "            nn.ReLU(),\n",
    "            nn.Conv2d(64, num_classes, 1)\n",
    "        )\n",
    "\n",
    "    def forward(self, x):\n",
    "        B, C, H, W = x.shape\n",
    "        state = torch.zeros(B, self.state_dim, H, W, device=x.device)\n",
    "        state[:, :C] = x\n",
    "\n",
    "        for _ in range(self.num_steps):\n",
    "            y = self.perceive(state)\n",
    "            dx = self.update(y)\n",
    "            state = state + dx\n",
    "\n",
    "        out = self.readout(state)\n",
    "        out = out.mean(dim=(2, 3))\n",
    "        return out\n"
   ],
   "metadata": {
    "collapsed": false
   },
   "id": "160c080bbbc741e7"
  },
  {
   "cell_type": "code",
   "execution_count": null,
   "outputs": [],
   "source": [
    "def train(model, loader, optimizer, criterion, device):\n",
    "    model.train()\n",
    "    total_loss, total_correct = 0, 0\n",
    "    for x, y in loader:\n",
    "        x, y = x.to(device), y.squeeze().to(device)\n",
    "        optimizer.zero_grad()\n",
    "        out = model(x)\n",
    "        loss = criterion(out, y)\n",
    "        loss.backward()\n",
    "        optimizer.step()\n",
    "\n",
    "        total_loss += loss.item() * x.size(0)\n",
    "        total_correct += (out.argmax(1) == y).sum().item()\n",
    "    return total_loss / len(loader.dataset), total_correct / len(loader.dataset)\n",
    "\n",
    "def evaluate(model, loader, criterion, device):\n",
    "    model.eval()\n",
    "    total_loss, total_correct = 0, 0\n",
    "    with torch.no_grad():\n",
    "        for x, y in loader:\n",
    "            x, y = x.to(device), y.squeeze().to(device)\n",
    "            out = model(x)\n",
    "            loss = criterion(out, y)\n",
    "            total_loss += loss.item() * x.size(0)\n",
    "            total_correct += (out.argmax(1) == y).sum().item()\n",
    "    return total_loss / len(loader.dataset), total_correct / len(loader.dataset)\n"
   ],
   "metadata": {
    "collapsed": false
   },
   "id": "10144e754fd5a42c"
  },
  {
   "cell_type": "code",
   "execution_count": null,
   "outputs": [],
   "source": [
    "device = torch.device(\"cuda\" if torch.cuda.is_available() else \"cpu\")\n",
    "model = NCA().to(device)\n",
    "optimizer = torch.optim.Adam(model.parameters(), lr=1e-3)\n",
    "criterion = nn.CrossEntropyLoss()\n",
    "\n",
    "best_acc = 0\n",
    "model_path = '/content/drive/MyDrive/NCA/best_nca_pathmnist.pth'\n",
    "\n",
    "for epoch in range(1, 51):\n",
    "    train_loss, train_acc = train(model, train_loader, optimizer, criterion, device)\n",
    "    val_loss, val_acc = evaluate(model, val_loader, criterion, device)\n",
    "    print(f\"Epoch {epoch:02d}: Train Acc: {train_acc:.4f}, Val Acc: {val_acc:.4f}\")\n",
    "\n",
    "    if val_acc > best_acc:\n",
    "        best_acc = val_acc\n",
    "        torch.save(model.state_dict(), model_path)\n",
    "        print(f\"🔥 New best model saved to {model_path}\")\n",
    "\n",
    "    if val_acc > 0.90:\n",
    "        print(\"Converged (validation accuracy > 90%)\")\n",
    "        break\n",
    "\n",
    "print(\"🎉 Training completed.\")"
   ],
   "metadata": {
    "collapsed": false
   },
   "id": "88c8b946760395b0"
  }
 ],
 "metadata": {
  "kernelspec": {
   "display_name": "Python 3",
   "language": "python",
   "name": "python3"
  },
  "language_info": {
   "codemirror_mode": {
    "name": "ipython",
    "version": 2
   },
   "file_extension": ".py",
   "mimetype": "text/x-python",
   "name": "python",
   "nbconvert_exporter": "python",
   "pygments_lexer": "ipython2",
   "version": "2.7.6"
  }
 },
 "nbformat": 4,
 "nbformat_minor": 5
}
