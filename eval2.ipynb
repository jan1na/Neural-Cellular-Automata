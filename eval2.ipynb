{
  "cells": [
    {
      "cell_type": "code",
      "source": [
        "!git clone https://github.com/jan1na/Neural-Cellular-Automata.git\n",
        "\n",
        "%cd Neural-Cellular-Automata"
      ],
      "metadata": {
        "id": "pGf1SgRGQHmM",
        "outputId": "27051ae2-f624-487e-d7e7-0b3406d1a7ff",
        "colab": {
          "base_uri": "https://localhost:8080/"
        }
      },
      "id": "pGf1SgRGQHmM",
      "execution_count": 1,
      "outputs": [
        {
          "output_type": "stream",
          "name": "stdout",
          "text": [
            "Cloning into 'Neural-Cellular-Automata'...\n",
            "remote: Enumerating objects: 141, done.\u001b[K\n",
            "remote: Counting objects: 100% (141/141), done.\u001b[K\n",
            "remote: Compressing objects: 100% (105/105), done.\u001b[K\n",
            "remote: Total 141 (delta 85), reused 61 (delta 32), pack-reused 0 (from 0)\u001b[K\n",
            "Receiving objects: 100% (141/141), 578.94 KiB | 2.28 MiB/s, done.\n",
            "Resolving deltas: 100% (85/85), done.\n",
            "/content/Neural-Cellular-Automata\n"
          ]
        }
      ]
    },
    {
      "cell_type": "code",
      "source": [
        "!pip install -U gdown\n",
        "\n",
        "file_ids = ['1W7y-7ebqUCFW2ZPEsafABw_OPnXRr6cj',\n",
        "            '1L99QItxhTDj3dS1dd8ubmxka4FxXb2HG',\n",
        "            '1PqrOpn4NJF3xp4Jw2KtRRVD_20Feucsc',\n",
        "            '1DtZJ5eD2PV4sO51MMQy9CVTZxgBKj_Gx']\n",
        "\n",
        "file_names = ['pathmnist.npz', 'pathmnist_64.npz', 'pathmnist_128.npz', 'pathmnist_224.npz']\n",
        "\n",
        "for file_id, file_name in zip(file_ids, file_names):\n",
        "    !gdown --id {file_id} --output {file_name}"
      ],
      "metadata": {
        "colab": {
          "base_uri": "https://localhost:8080/"
        },
        "id": "8rpZOHk9G2SR",
        "outputId": "854b7f2d-80ed-4cf7-c4bf-5ae1521b17b0"
      },
      "id": "8rpZOHk9G2SR",
      "execution_count": 2,
      "outputs": [
        {
          "output_type": "stream",
          "name": "stdout",
          "text": [
            "Requirement already satisfied: gdown in /usr/local/lib/python3.11/dist-packages (5.2.0)\n",
            "Requirement already satisfied: beautifulsoup4 in /usr/local/lib/python3.11/dist-packages (from gdown) (4.13.4)\n",
            "Requirement already satisfied: filelock in /usr/local/lib/python3.11/dist-packages (from gdown) (3.18.0)\n",
            "Requirement already satisfied: requests[socks] in /usr/local/lib/python3.11/dist-packages (from gdown) (2.32.3)\n",
            "Requirement already satisfied: tqdm in /usr/local/lib/python3.11/dist-packages (from gdown) (4.67.1)\n",
            "Requirement already satisfied: soupsieve>1.2 in /usr/local/lib/python3.11/dist-packages (from beautifulsoup4->gdown) (2.7)\n",
            "Requirement already satisfied: typing-extensions>=4.0.0 in /usr/local/lib/python3.11/dist-packages (from beautifulsoup4->gdown) (4.14.1)\n",
            "Requirement already satisfied: charset-normalizer<4,>=2 in /usr/local/lib/python3.11/dist-packages (from requests[socks]->gdown) (3.4.2)\n",
            "Requirement already satisfied: idna<4,>=2.5 in /usr/local/lib/python3.11/dist-packages (from requests[socks]->gdown) (3.10)\n",
            "Requirement already satisfied: urllib3<3,>=1.21.1 in /usr/local/lib/python3.11/dist-packages (from requests[socks]->gdown) (2.4.0)\n",
            "Requirement already satisfied: certifi>=2017.4.17 in /usr/local/lib/python3.11/dist-packages (from requests[socks]->gdown) (2025.7.14)\n",
            "Requirement already satisfied: PySocks!=1.5.7,>=1.5.6 in /usr/local/lib/python3.11/dist-packages (from requests[socks]->gdown) (1.7.1)\n",
            "/usr/local/lib/python3.11/dist-packages/gdown/__main__.py:140: FutureWarning: Option `--id` was deprecated in version 4.3.1 and will be removed in 5.0. You don't need to pass it anymore to use a file ID.\n",
            "  warnings.warn(\n",
            "Downloading...\n",
            "From (original): https://drive.google.com/uc?id=1W7y-7ebqUCFW2ZPEsafABw_OPnXRr6cj\n",
            "From (redirected): https://drive.google.com/uc?id=1W7y-7ebqUCFW2ZPEsafABw_OPnXRr6cj&confirm=t&uuid=71c9f823-b98d-4ea1-8a6d-2e945c0e6c0d\n",
            "To: /content/Neural-Cellular-Automata/pathmnist.npz\n",
            "100% 206M/206M [00:04<00:00, 47.0MB/s]\n",
            "/usr/local/lib/python3.11/dist-packages/gdown/__main__.py:140: FutureWarning: Option `--id` was deprecated in version 4.3.1 and will be removed in 5.0. You don't need to pass it anymore to use a file ID.\n",
            "  warnings.warn(\n",
            "Downloading...\n",
            "From (original): https://drive.google.com/uc?id=1L99QItxhTDj3dS1dd8ubmxka4FxXb2HG\n",
            "From (redirected): https://drive.google.com/uc?id=1L99QItxhTDj3dS1dd8ubmxka4FxXb2HG&confirm=t&uuid=6e6bea56-b0c9-4e9e-916b-1beeebe92b40\n",
            "To: /content/Neural-Cellular-Automata/pathmnist_64.npz\n",
            "100% 1.07G/1.07G [00:15<00:00, 68.4MB/s]\n",
            "/usr/local/lib/python3.11/dist-packages/gdown/__main__.py:140: FutureWarning: Option `--id` was deprecated in version 4.3.1 and will be removed in 5.0. You don't need to pass it anymore to use a file ID.\n",
            "  warnings.warn(\n",
            "Downloading...\n",
            "From (original): https://drive.google.com/uc?id=1PqrOpn4NJF3xp4Jw2KtRRVD_20Feucsc\n",
            "From (redirected): https://drive.google.com/uc?id=1PqrOpn4NJF3xp4Jw2KtRRVD_20Feucsc&confirm=t&uuid=7cb6a295-4eb2-4cf6-b52d-192e5d6e52a0\n",
            "To: /content/Neural-Cellular-Automata/pathmnist_128.npz\n",
            "100% 4.26G/4.26G [00:48<00:00, 88.0MB/s]\n",
            "/usr/local/lib/python3.11/dist-packages/gdown/__main__.py:140: FutureWarning: Option `--id` was deprecated in version 4.3.1 and will be removed in 5.0. You don't need to pass it anymore to use a file ID.\n",
            "  warnings.warn(\n",
            "Downloading...\n",
            "From (original): https://drive.google.com/uc?id=1DtZJ5eD2PV4sO51MMQy9CVTZxgBKj_Gx\n",
            "From (redirected): https://drive.google.com/uc?id=1DtZJ5eD2PV4sO51MMQy9CVTZxgBKj_Gx&confirm=t&uuid=8d665063-f662-46c8-bf87-5fc0024817e3\n",
            "To: /content/Neural-Cellular-Automata/pathmnist_224.npz\n",
            "100% 12.6G/12.6G [02:49<00:00, 74.4MB/s]\n"
          ]
        }
      ]
    },
    {
      "cell_type": "code",
      "source": [
        "from google.colab import drive\n",
        "drive.mount('/content/drive')"
      ],
      "metadata": {
        "id": "rmkrrou1LBXf",
        "outputId": "3bfe72de-cd1a-402b-a86d-2faed62bdc3c",
        "colab": {
          "base_uri": "https://localhost:8080/"
        }
      },
      "id": "rmkrrou1LBXf",
      "execution_count": 3,
      "outputs": [
        {
          "output_type": "stream",
          "name": "stdout",
          "text": [
            "Mounted at /content/drive\n"
          ]
        }
      ]
    },
    {
      "cell_type": "code",
      "source": [],
      "metadata": {
        "id": "CI2_0rJHrY32"
      },
      "id": "CI2_0rJHrY32",
      "execution_count": 3,
      "outputs": []
    },
    {
      "cell_type": "code",
      "execution_count": 4,
      "id": "initial_id",
      "metadata": {
        "collapsed": true,
        "id": "initial_id",
        "outputId": "caf05017-a1f4-4706-d281-63825edef5f5",
        "colab": {
          "base_uri": "https://localhost:8080/"
        }
      },
      "outputs": [
        {
          "output_type": "stream",
          "name": "stdout",
          "text": [
            "\u001b[?25l     \u001b[90m━━━━━━━━━━━━━━━━━━━━━━━━━━━━━━━━━━━━━━━━\u001b[0m \u001b[32m0.0/87.2 kB\u001b[0m \u001b[31m?\u001b[0m eta \u001b[36m-:--:--\u001b[0m\r\u001b[2K     \u001b[90m━━━━━━━━━━━━━━━━━━━━━━━━━━━━━━━━━━━━━━━━\u001b[0m \u001b[32m87.2/87.2 kB\u001b[0m \u001b[31m7.1 MB/s\u001b[0m eta \u001b[36m0:00:00\u001b[0m\n",
            "\u001b[?25h  Preparing metadata (setup.py) ... \u001b[?25l\u001b[?25hdone\n",
            "\u001b[2K   \u001b[90m━━━━━━━━━━━━━━━━━━━━━━━━━━━━━━━━━━━━━━━━\u001b[0m \u001b[32m963.5/963.5 kB\u001b[0m \u001b[31m42.7 MB/s\u001b[0m eta \u001b[36m0:00:00\u001b[0m\n",
            "\u001b[2K   \u001b[90m━━━━━━━━━━━━━━━━━━━━━━━━━━━━━━━━━━━━━━━━\u001b[0m \u001b[32m363.4/363.4 MB\u001b[0m \u001b[31m3.3 MB/s\u001b[0m eta \u001b[36m0:00:00\u001b[0m\n",
            "\u001b[2K   \u001b[90m━━━━━━━━━━━━━━━━━━━━━━━━━━━━━━━━━━━━━━━━\u001b[0m \u001b[32m13.8/13.8 MB\u001b[0m \u001b[31m29.0 MB/s\u001b[0m eta \u001b[36m0:00:00\u001b[0m\n",
            "\u001b[2K   \u001b[90m━━━━━━━━━━━━━━━━━━━━━━━━━━━━━━━━━━━━━━━━\u001b[0m \u001b[32m24.6/24.6 MB\u001b[0m \u001b[31m27.4 MB/s\u001b[0m eta \u001b[36m0:00:00\u001b[0m\n",
            "\u001b[2K   \u001b[90m━━━━━━━━━━━━━━━━━━━━━━━━━━━━━━━━━━━━━━━━\u001b[0m \u001b[32m883.7/883.7 kB\u001b[0m \u001b[31m38.8 MB/s\u001b[0m eta \u001b[36m0:00:00\u001b[0m\n",
            "\u001b[2K   \u001b[90m━━━━━━━━━━━━━━━━━━━━━━━━━━━━━━━━━━━━━━━━\u001b[0m \u001b[32m664.8/664.8 MB\u001b[0m \u001b[31m1.2 MB/s\u001b[0m eta \u001b[36m0:00:00\u001b[0m\n",
            "\u001b[2K   \u001b[90m━━━━━━━━━━━━━━━━━━━━━━━━━━━━━━━━━━━━━━━━\u001b[0m \u001b[32m211.5/211.5 MB\u001b[0m \u001b[31m5.6 MB/s\u001b[0m eta \u001b[36m0:00:00\u001b[0m\n",
            "\u001b[2K   \u001b[90m━━━━━━━━━━━━━━━━━━━━━━━━━━━━━━━━━━━━━━━━\u001b[0m \u001b[32m56.3/56.3 MB\u001b[0m \u001b[31m13.9 MB/s\u001b[0m eta \u001b[36m0:00:00\u001b[0m\n",
            "\u001b[2K   \u001b[90m━━━━━━━━━━━━━━━━━━━━━━━━━━━━━━━━━━━━━━━━\u001b[0m \u001b[32m127.9/127.9 MB\u001b[0m \u001b[31m7.5 MB/s\u001b[0m eta \u001b[36m0:00:00\u001b[0m\n",
            "\u001b[2K   \u001b[90m━━━━━━━━━━━━━━━━━━━━━━━━━━━━━━━━━━━━━━━━\u001b[0m \u001b[32m207.5/207.5 MB\u001b[0m \u001b[31m5.9 MB/s\u001b[0m eta \u001b[36m0:00:00\u001b[0m\n",
            "\u001b[2K   \u001b[90m━━━━━━━━━━━━━━━━━━━━━━━━━━━━━━━━━━━━━━━━\u001b[0m \u001b[32m21.1/21.1 MB\u001b[0m \u001b[31m82.4 MB/s\u001b[0m eta \u001b[36m0:00:00\u001b[0m\n",
            "\u001b[?25h  Building wheel for fire (setup.py) ... \u001b[?25l\u001b[?25hdone\n",
            "Using device: cuda\n"
          ]
        }
      ],
      "source": [
        "!pip install -q medmnist scikit-learn torchmetrics\n",
        "\n",
        "import torch\n",
        "from torch.utils.data import DataLoader\n",
        "from torchvision import transforms\n",
        "from torchmetrics.classification import MulticlassCalibrationError\n",
        "from medmnist import PathMNIST\n",
        "import matplotlib.pyplot as plt\n",
        "from sklearn.metrics import classification_report, confusion_matrix, accuracy_score, balanced_accuracy_score, mean_absolute_error, brier_score_loss\n",
        "from sklearn.preprocessing import label_binarize\n",
        "import seaborn as sns\n",
        "from models import NCA2, CNNBaseline\n",
        "import torch.nn.functional as F\n",
        "import numpy as np\n",
        "\n",
        "\n",
        "\n",
        "device = torch.device(\"cuda\" if torch.cuda.is_available() else \"cpu\")\n",
        "print(\"Using device:\", device)"
      ]
    },
    {
      "cell_type": "code",
      "execution_count": 5,
      "outputs": [
        {
          "output_type": "stream",
          "name": "stdout",
          "text": [
            "Copied pathmnist.npz to cache.\n",
            "Copied pathmnist_64.npz to cache.\n",
            "Copied pathmnist_128.npz to cache.\n",
            "Copied pathmnist_224.npz to cache.\n"
          ]
        }
      ],
      "source": [
        "from google.colab import drive\n",
        "import os\n",
        "import shutil\n",
        "\n",
        "drive_folder = \"/content/Neural-Cellular-Automata/\"\n",
        "cache_dir = os.path.expanduser(\"~/.medmnist\")\n",
        "os.makedirs(cache_dir, exist_ok=True)\n",
        "\n",
        "resolutions = [\"\", \"_64\", \"_128\", \"_224\"]\n",
        "for res in resolutions:\n",
        "    filename = f\"pathmnist{res}.npz\"\n",
        "    src = os.path.join(drive_folder, filename)\n",
        "    dst = os.path.join(cache_dir, filename)\n",
        "\n",
        "    if os.path.exists(src):\n",
        "        shutil.copyfile(src, dst)\n",
        "        print(f\"Copied {filename} to cache.\")\n",
        "    else:\n",
        "        print(f\"File not found in Drive: {filename}\")"
      ],
      "metadata": {
        "id": "349d3805c367abc6",
        "outputId": "c29fa00a-89e9-42ee-d069-b96521054faa",
        "colab": {
          "base_uri": "https://localhost:8080/"
        }
      },
      "id": "349d3805c367abc6"
    },
    {
      "cell_type": "code",
      "execution_count": 6,
      "outputs": [
        {
          "output_type": "execute_result",
          "data": {
            "text/plain": [
              "CNNBaseline(\n",
              "  (features): Sequential(\n",
              "    (0): Conv2d(3, 32, kernel_size=(3, 3), stride=(1, 1), padding=(1, 1))\n",
              "    (1): ReLU()\n",
              "    (2): MaxPool2d(kernel_size=2, stride=2, padding=0, dilation=1, ceil_mode=False)\n",
              "    (3): Conv2d(32, 64, kernel_size=(3, 3), stride=(1, 1), padding=(1, 1))\n",
              "    (4): ReLU()\n",
              "    (5): MaxPool2d(kernel_size=2, stride=2, padding=0, dilation=1, ceil_mode=False)\n",
              "    (6): Conv2d(64, 128, kernel_size=(3, 3), stride=(1, 1), padding=(1, 1))\n",
              "    (7): ReLU()\n",
              "  )\n",
              "  (pool): AdaptiveAvgPool2d(output_size=(1, 1))\n",
              "  (fc): Linear(in_features=128, out_features=9, bias=True)\n",
              ")"
            ]
          },
          "metadata": {},
          "execution_count": 6
        }
      ],
      "source": [
        "nca = NCA2().to(device)\n",
        "nca.load_state_dict(torch.load(\"/content/drive/MyDrive/NCA/best_nca_pathmnist.pth\"))\n",
        "nca.eval()\n",
        "\n",
        "cnn = CNNBaseline().to(device)\n",
        "cnn.load_state_dict(torch.load(\"/content/drive/MyDrive/NCA/best_cnn_pathmnist.pth\"))\n",
        "cnn.eval()"
      ],
      "metadata": {
        "id": "952872a274a32592",
        "outputId": "56b9688a-e4e3-4747-a87a-2c5a70762a89",
        "colab": {
          "base_uri": "https://localhost:8080/"
        }
      },
      "id": "952872a274a32592"
    },
    {
      "cell_type": "code",
      "execution_count": 7,
      "outputs": [],
      "source": [
        "def get_loader(size, batch_size=64):\n",
        "    transform = transforms.Compose([transforms.ToTensor()])\n",
        "    dataset = PathMNIST(split=\"test\", size=size, download=False, transform=transform)\n",
        "    return DataLoader(dataset, batch_size=batch_size, shuffle=False)"
      ],
      "metadata": {
        "id": "fed7579ccabc28e4",
        "cellView": "code"
      },
      "id": "fed7579ccabc28e4"
    },
    {
      "cell_type": "code",
      "execution_count": 8,
      "outputs": [],
      "source": [
        "@torch.no_grad()\n",
        "def evaluate(model, loader, name=\"Model\", size=28, save_dir=\"/content/drive/MyDrive/NCA/results\", is_NCA=False):\n",
        "    all_preds, all_labels, all_logits = [], [], []\n",
        "\n",
        "    for x, y in loader:\n",
        "        x, y = x.to(device), y.squeeze()\n",
        "        if is_NCA:\n",
        "            out, rgb_steps = model(x, True)\n",
        "        else:\n",
        "            out = model(x)\n",
        "\n",
        "        all_logits.append(out.cpu())\n",
        "        pred = out.argmax(dim=1).cpu().numpy()\n",
        "        label = y.numpy()\n",
        "        all_preds.extend(pred)\n",
        "        all_labels.extend(label)\n",
        "\n",
        "    # Converting for scores\n",
        "    logits = torch.cat(all_logits)  # (N, C)\n",
        "    probs = F.softmax(logits, dim=1).numpy()  # (N, C)\n",
        "    all_preds = np.array(all_preds)\n",
        "    all_labels = np.array(all_labels)\n",
        "\n",
        "    # Metrics\n",
        "    cm = confusion_matrix(all_labels, all_preds)\n",
        "    overall_acc = accuracy_score(all_labels, all_preds)\n",
        "    bal_acc = balanced_accuracy_score(all_labels, all_preds)\n",
        "    mae = mean_absolute_error(all_labels, all_preds)\n",
        "    report = classification_report(all_labels, all_preds, digits=4)\n",
        "\n",
        "\n",
        "    ### Uncertainty Quantification (NQM)\n",
        "\n",
        "    # Brier Score\n",
        "    y_true_bin = label_binarize(all_labels, classes=list(range(probs.shape[1])))\n",
        "    brier = np.mean(np.sum((probs - y_true_bin) ** 2, axis=1))\n",
        "\n",
        "    # NLL (Cross-Entropy)\n",
        "    all_labels_tensor = torch.tensor(all_labels)\n",
        "    nll = F.cross_entropy(logits, all_labels_tensor, reduction='mean').item()\n",
        "\n",
        "    # Entroyp\n",
        "    entropy = -np.sum(probs * np.log(probs + 1e-12), axis=1)\n",
        "    mean_entropy = np.mean(entropy)\n",
        "\n",
        "    # ECE\n",
        "    probs_tensor = torch.from_numpy(probs).float()\n",
        "    labels_tensor = torch.from_numpy(all_labels).long()\n",
        "\n",
        "    ece_metric = MulticlassCalibrationError(num_classes=probs.shape[1], n_bins=15, norm='l1')\n",
        "    ece = ece_metric(probs_tensor, labels_tensor).item()\n",
        "\n",
        "    # Logging\n",
        "    print(f\"\\n{name} @ {size}x{size}\")\n",
        "    print(f\"Overall Accuracy: {overall_acc:.4f}\")\n",
        "    print(\"Balanced Accuracy:\", f\"{bal_acc:.4f}\")\n",
        "    print(\"Mean Absolute Error (MAE):\", f\"{mae:.4f}\")\n",
        "    print(\"\")\n",
        "    print(\"Uncertainty Quantification:\")\n",
        "    print(f\"Brier Score: {brier:.4f}\")\n",
        "    print(f\"NLL (Cross-Entropy)  : {nll:.4f}\")\n",
        "    print(f\"Mean Predictive Entropy: {mean_entropy:.4f}\")\n",
        "    print(f\"Expected Calibration Error (ECE): {ece:.4f}\")\n",
        "\n",
        "    print(report)\n",
        "\n",
        "    # Save confusion matrix\n",
        "    os.makedirs(save_dir, exist_ok=True)\n",
        "    plt.figure(figsize=(8, 6))\n",
        "    sns.heatmap(cm, annot=True, fmt='d', cmap='Blues')\n",
        "    plt.title(f\"Confusion Matrix: {name} @ {size}x{size}\")\n",
        "    plt.xlabel(\"Predicted\")\n",
        "    plt.ylabel(\"True\")\n",
        "    fname = f\"{save_dir}/cm_{name.replace(' ', '_')}_{size}x{size}.png\"\n",
        "    plt.savefig(fname)\n",
        "    plt.close()\n",
        "    print(f\"Confusion matrix saved to: {fname}\")\n",
        "\n",
        "    return {\n",
        "        \"overall_acc\": overall_acc,\n",
        "        \"bal_acc\": bal_acc,\n",
        "        \"mae\": mae,\n",
        "        \"brier\": brier,\n",
        "        \"nll\": nll,\n",
        "        \"entropy\": mean_entropy,\n",
        "        \"ece\": ece\n",
        "    }"
      ],
      "metadata": {
        "id": "cb4d8ed9ab50385b"
      },
      "id": "cb4d8ed9ab50385b"
    },
    {
      "cell_type": "code",
      "source": [
        "def plot_comparison(results, save_dir=\"/content/drive/MyDrive/NCA/results\"):\n",
        "    os.makedirs(save_dir, exist_ok=True)\n",
        "\n",
        "    metric_keys = [\"overall_acc\", \"bal_acc\", \"mae\", \"brier\", \"nll\", \"entropy\", \"ece\"]\n",
        "\n",
        "    for metric in metric_keys:\n",
        "        plt.figure(figsize=(8, 5))\n",
        "        plt.plot(results[\"CNN\"][\"size\"], results[\"CNN\"][metric], marker='o', label=\"CNN\")\n",
        "        plt.plot(results[\"NCA\"][\"size\"], results[\"NCA\"][metric], marker='s', label=\"NCA\")\n",
        "\n",
        "        plt.title(f\"{metric.replace('_', ' ').title()} vs Resolution\")\n",
        "        plt.xlabel(\"Image Size\")\n",
        "        plt.ylabel(metric.replace('_', ' ').title())\n",
        "        plt.xticks(results[\"CNN\"][\"size\"])  # saubere Ticks\n",
        "        plt.legend()\n",
        "        plt.grid(True)\n",
        "\n",
        "        fname = os.path.join(save_dir, f\"comparison_{metric}.png\")\n",
        "        plt.savefig(fname)\n",
        "        plt.close()\n",
        "        print(f\"Saved: {fname}\")"
      ],
      "metadata": {
        "id": "AwglZFGSuhSA"
      },
      "id": "AwglZFGSuhSA",
      "execution_count": 9,
      "outputs": []
    },
    {
      "cell_type": "code",
      "execution_count": 10,
      "outputs": [
        {
          "output_type": "stream",
          "name": "stdout",
          "text": [
            "\n",
            "==============================\n",
            "Resolution: 28x28\n",
            "CNN:\n",
            "\n",
            "CNN @ 28x28\n",
            "Overall Accuracy: 0.8216\n",
            "Balanced Accuracy: 0.7853\n",
            "Mean Absolute Error (MAE): 0.5536\n",
            "\n",
            "Uncertainty Quantification:\n",
            "Brier Score: 0.2595\n",
            "NLL (Cross-Entropy)  : 0.7132\n",
            "Mean Predictive Entropy: 0.3278\n",
            "Expected Calibration Error (ECE): 0.0574\n",
            "              precision    recall  f1-score   support\n",
            "\n",
            "           0     0.9337    0.9895    0.9608      1338\n",
            "           1     0.8378    1.0000    0.9117       847\n",
            "           2     0.3957    0.7552    0.5193       339\n",
            "           3     0.8424    0.7839    0.8121       634\n",
            "           4     0.9377    0.7420    0.8285      1035\n",
            "           5     0.8349    0.7432    0.7864       592\n",
            "           6     0.8912    0.6856    0.7750       741\n",
            "           7     0.5175    0.5273    0.5224       421\n",
            "           8     0.8871    0.8410    0.8634      1233\n",
            "\n",
            "    accuracy                         0.8216      7180\n",
            "   macro avg     0.7864    0.7853    0.7755      7180\n",
            "weighted avg     0.8446    0.8216    0.8260      7180\n",
            "\n",
            "Confusion matrix saved to: /content/drive/MyDrive/NCA/results/cm_CNN_28x28.png\n",
            "NCA:\n",
            "\n",
            "NCA @ 28x28\n",
            "Overall Accuracy: 0.8240\n",
            "Balanced Accuracy: 0.7991\n",
            "Mean Absolute Error (MAE): 0.6116\n",
            "\n",
            "Uncertainty Quantification:\n",
            "Brier Score: 0.2723\n",
            "NLL (Cross-Entropy)  : 0.6651\n",
            "Mean Predictive Entropy: 0.2408\n",
            "Expected Calibration Error (ECE): 0.0855\n",
            "              precision    recall  f1-score   support\n",
            "\n",
            "           0     0.9478    0.7601    0.8436      1338\n",
            "           1     0.8564    1.0000    0.9227       847\n",
            "           2     0.5449    0.8230    0.6557       339\n",
            "           3     0.9256    0.9227    0.9242       634\n",
            "           4     0.9798    0.7981    0.8797      1035\n",
            "           5     0.5414    0.7399    0.6253       592\n",
            "           6     0.8767    0.7868    0.8293       741\n",
            "           7     0.7709    0.4157    0.5401       421\n",
            "           8     0.8154    0.9457    0.8757      1233\n",
            "\n",
            "    accuracy                         0.8240      7180\n",
            "   macro avg     0.8066    0.7991    0.7885      7180\n",
            "weighted avg     0.8467    0.8240    0.8246      7180\n",
            "\n",
            "Confusion matrix saved to: /content/drive/MyDrive/NCA/results/cm_NCA_28x28.png\n",
            "\n",
            "==============================\n",
            "Resolution: 64x64\n",
            "CNN:\n",
            "\n",
            "CNN @ 64x64\n",
            "Overall Accuracy: 0.6343\n",
            "Balanced Accuracy: 0.5874\n",
            "Mean Absolute Error (MAE): 1.0153\n",
            "\n",
            "Uncertainty Quantification:\n",
            "Brier Score: 0.5183\n",
            "NLL (Cross-Entropy)  : 1.3972\n",
            "Mean Predictive Entropy: 0.5596\n",
            "Expected Calibration Error (ECE): 0.1516\n",
            "              precision    recall  f1-score   support\n",
            "\n",
            "           0     0.9591    0.7892    0.8659      1338\n",
            "           1     0.7359    1.0000    0.8478       847\n",
            "           2     0.1926    0.5811    0.2893       339\n",
            "           3     0.8561    0.3659    0.5127       634\n",
            "           4     0.5068    0.9053    0.6498      1035\n",
            "           5     0.8558    0.4713    0.6078       592\n",
            "           6     0.7639    0.1484    0.2486       741\n",
            "           7     0.3511    0.4537    0.3959       421\n",
            "           8     0.9144    0.5718    0.7036      1233\n",
            "\n",
            "    accuracy                         0.6343      7180\n",
            "   macro avg     0.6817    0.5874    0.5690      7180\n",
            "weighted avg     0.7503    0.6343    0.6338      7180\n",
            "\n",
            "Confusion matrix saved to: /content/drive/MyDrive/NCA/results/cm_CNN_64x64.png\n",
            "NCA:\n",
            "\n",
            "NCA @ 64x64\n",
            "Overall Accuracy: 0.7032\n",
            "Balanced Accuracy: 0.6736\n",
            "Mean Absolute Error (MAE): 1.0432\n",
            "\n",
            "Uncertainty Quantification:\n",
            "Brier Score: 0.4398\n",
            "NLL (Cross-Entropy)  : 1.2172\n",
            "Mean Predictive Entropy: 0.4283\n",
            "Expected Calibration Error (ECE): 0.1380\n",
            "              precision    recall  f1-score   support\n",
            "\n",
            "           0     0.9911    0.4155    0.5856      1338\n",
            "           1     0.8805    1.0000    0.9364       847\n",
            "           2     0.3209    0.9115    0.4747       339\n",
            "           3     1.0000    0.6199    0.7653       634\n",
            "           4     0.6898    0.9237    0.7898      1035\n",
            "           5     0.2190    0.1909    0.2040       592\n",
            "           6     0.6299    0.8543    0.7251       741\n",
            "           7     0.8476    0.2114    0.3384       421\n",
            "           8     0.8945    0.9351    0.9144      1233\n",
            "\n",
            "    accuracy                         0.7032      7180\n",
            "   macro avg     0.7192    0.6736    0.6371      7180\n",
            "weighted avg     0.7778    0.7032    0.6919      7180\n",
            "\n",
            "Confusion matrix saved to: /content/drive/MyDrive/NCA/results/cm_NCA_64x64.png\n",
            "\n",
            "==============================\n",
            "Resolution: 128x128\n",
            "CNN:\n",
            "\n",
            "CNN @ 128x128\n",
            "Overall Accuracy: 0.3932\n",
            "Balanced Accuracy: 0.4095\n",
            "Mean Absolute Error (MAE): 1.6242\n",
            "\n",
            "Uncertainty Quantification:\n",
            "Brier Score: 0.8864\n",
            "NLL (Cross-Entropy)  : 2.8619\n",
            "Mean Predictive Entropy: 0.5808\n",
            "Expected Calibration Error (ECE): 0.3862\n",
            "              precision    recall  f1-score   support\n",
            "\n",
            "           0     1.0000    0.1390    0.2441      1338\n",
            "           1     0.5093    1.0000    0.6749       847\n",
            "           2     0.3284    0.8584    0.4751       339\n",
            "           3     0.0270    0.0016    0.0030       634\n",
            "           4     0.3130    0.9710    0.4734      1035\n",
            "           5     0.6852    0.1875    0.2944       592\n",
            "           6     0.2484    0.0526    0.0869       741\n",
            "           7     0.3795    0.2993    0.3347       421\n",
            "           8     0.3974    0.1760    0.2440      1233\n",
            "\n",
            "    accuracy                         0.3932      7180\n",
            "   macro avg     0.4320    0.4095    0.3145      7180\n",
            "weighted avg     0.4821    0.3932    0.3108      7180\n",
            "\n",
            "Confusion matrix saved to: /content/drive/MyDrive/NCA/results/cm_CNN_128x128.png\n",
            "NCA:\n"
          ]
        },
        {
          "output_type": "stream",
          "name": "stderr",
          "text": [
            "/usr/local/lib/python3.11/dist-packages/sklearn/metrics/_classification.py:1565: UndefinedMetricWarning: Precision is ill-defined and being set to 0.0 in labels with no predicted samples. Use `zero_division` parameter to control this behavior.\n",
            "  _warn_prf(average, modifier, f\"{metric.capitalize()} is\", len(result))\n",
            "/usr/local/lib/python3.11/dist-packages/sklearn/metrics/_classification.py:1565: UndefinedMetricWarning: Precision is ill-defined and being set to 0.0 in labels with no predicted samples. Use `zero_division` parameter to control this behavior.\n",
            "  _warn_prf(average, modifier, f\"{metric.capitalize()} is\", len(result))\n",
            "/usr/local/lib/python3.11/dist-packages/sklearn/metrics/_classification.py:1565: UndefinedMetricWarning: Precision is ill-defined and being set to 0.0 in labels with no predicted samples. Use `zero_division` parameter to control this behavior.\n",
            "  _warn_prf(average, modifier, f\"{metric.capitalize()} is\", len(result))\n"
          ]
        },
        {
          "output_type": "stream",
          "name": "stdout",
          "text": [
            "\n",
            "NCA @ 128x128\n",
            "Overall Accuracy: 0.4528\n",
            "Balanced Accuracy: 0.4494\n",
            "Mean Absolute Error (MAE): 1.5929\n",
            "\n",
            "Uncertainty Quantification:\n",
            "Brier Score: 0.8258\n",
            "NLL (Cross-Entropy)  : 4.0117\n",
            "Mean Predictive Entropy: 0.6364\n",
            "Expected Calibration Error (ECE): 0.2893\n",
            "              precision    recall  f1-score   support\n",
            "\n",
            "           0     0.0000    0.0000    0.0000      1338\n",
            "           1     0.5587    1.0000    0.7169       847\n",
            "           2     0.2596    0.7758    0.3891       339\n",
            "           3     0.9755    0.2508    0.3990       634\n",
            "           4     0.4311    0.6193    0.5083      1035\n",
            "           5     0.1250    0.0287    0.0467       592\n",
            "           6     0.3435    0.6356    0.4460       741\n",
            "           7     0.9643    0.0641    0.1203       421\n",
            "           8     0.5634    0.6699    0.6121      1233\n",
            "\n",
            "    accuracy                         0.4528      7180\n",
            "   macro avg     0.4690    0.4494    0.3598      7180\n",
            "weighted avg     0.4255    0.4528    0.3735      7180\n",
            "\n",
            "Confusion matrix saved to: /content/drive/MyDrive/NCA/results/cm_NCA_128x128.png\n",
            "\n",
            "==============================\n",
            "Resolution: 224x224\n",
            "CNN:\n",
            "\n",
            "CNN @ 224x224\n",
            "Overall Accuracy: 0.3294\n",
            "Balanced Accuracy: 0.3416\n",
            "Mean Absolute Error (MAE): 1.7976\n",
            "\n",
            "Uncertainty Quantification:\n",
            "Brier Score: 1.0390\n",
            "NLL (Cross-Entropy)  : 4.4632\n",
            "Mean Predictive Entropy: 0.5250\n",
            "Expected Calibration Error (ECE): 0.4737\n",
            "              precision    recall  f1-score   support\n",
            "\n",
            "           0     1.0000    0.0493    0.0940      1338\n",
            "           1     0.4282    1.0000    0.5996       847\n",
            "           2     0.4462    0.6490    0.5288       339\n",
            "           3     0.0000    0.0000    0.0000       634\n",
            "           4     0.2769    0.9816    0.4320      1035\n",
            "           5     0.4842    0.0777    0.1339       592\n",
            "           6     0.1731    0.0121    0.0227       741\n",
            "           7     0.3208    0.2637    0.2894       421\n",
            "           8     0.1119    0.0406    0.0595      1233\n",
            "\n",
            "    accuracy                         0.3294      7180\n",
            "   macro avg     0.3601    0.3416    0.2400      7180\n",
            "weighted avg     0.3937    0.3294    0.2161      7180\n",
            "\n",
            "Confusion matrix saved to: /content/drive/MyDrive/NCA/results/cm_CNN_224x224.png\n",
            "NCA:\n"
          ]
        },
        {
          "output_type": "stream",
          "name": "stderr",
          "text": [
            "/usr/local/lib/python3.11/dist-packages/sklearn/metrics/_classification.py:1565: UndefinedMetricWarning: Precision is ill-defined and being set to 0.0 in labels with no predicted samples. Use `zero_division` parameter to control this behavior.\n",
            "  _warn_prf(average, modifier, f\"{metric.capitalize()} is\", len(result))\n",
            "/usr/local/lib/python3.11/dist-packages/sklearn/metrics/_classification.py:1565: UndefinedMetricWarning: Precision is ill-defined and being set to 0.0 in labels with no predicted samples. Use `zero_division` parameter to control this behavior.\n",
            "  _warn_prf(average, modifier, f\"{metric.capitalize()} is\", len(result))\n",
            "/usr/local/lib/python3.11/dist-packages/sklearn/metrics/_classification.py:1565: UndefinedMetricWarning: Precision is ill-defined and being set to 0.0 in labels with no predicted samples. Use `zero_division` parameter to control this behavior.\n",
            "  _warn_prf(average, modifier, f\"{metric.capitalize()} is\", len(result))\n"
          ]
        },
        {
          "output_type": "stream",
          "name": "stdout",
          "text": [
            "\n",
            "NCA @ 224x224\n",
            "Overall Accuracy: 0.2572\n",
            "Balanced Accuracy: 0.3015\n",
            "Mean Absolute Error (MAE): 2.3591\n",
            "\n",
            "Uncertainty Quantification:\n",
            "Brier Score: 1.1267\n",
            "NLL (Cross-Entropy)  : 6.3171\n",
            "Mean Predictive Entropy: 0.7527\n",
            "Expected Calibration Error (ECE): 0.4543\n",
            "              precision    recall  f1-score   support\n",
            "\n",
            "           0     0.0000    0.0000    0.0000      1338\n",
            "           1     0.2513    1.0000    0.4017       847\n",
            "           2     0.2062    0.6637    0.3147       339\n",
            "           3     0.0000    0.0000    0.0000       634\n",
            "           4     0.1114    0.0377    0.0563      1035\n",
            "           5     0.4832    0.2669    0.3439       592\n",
            "           6     0.3127    0.6937    0.4310       741\n",
            "           7     0.0000    0.0000    0.0000       421\n",
            "           8     0.1612    0.0519    0.0785      1233\n",
            "\n",
            "    accuracy                         0.2572      7180\n",
            "   macro avg     0.1696    0.3015    0.1807      7180\n",
            "weighted avg     0.1552    0.2572    0.1567      7180\n",
            "\n",
            "Confusion matrix saved to: /content/drive/MyDrive/NCA/results/cm_NCA_224x224.png\n"
          ]
        }
      ],
      "source": [
        "results = {\n",
        "    \"CNN\": {\"size\": [], \"overall_acc\": [], \"bal_acc\": [], \"mae\": [], \"brier\": [], \"nll\": [], \"entropy\": [], \"ece\": []},\n",
        "    \"NCA\": {\"size\": [], \"overall_acc\": [], \"bal_acc\": [], \"mae\": [], \"brier\": [], \"nll\": [], \"entropy\": [], \"ece\": []}\n",
        "}\n",
        "\n",
        "for size in [28, 64, 128, 224]:\n",
        "    print(f\"\\n==============================\")\n",
        "    print(f\"Resolution: {size}x{size}\")\n",
        "    loader = get_loader(size)\n",
        "\n",
        "    print(\"CNN:\")\n",
        "    cnn_metrics = evaluate(cnn, loader, name=\"CNN\", size=size)\n",
        "    for k in cnn_metrics:\n",
        "        results[\"CNN\"][k].append(cnn_metrics[k])\n",
        "    results[\"CNN\"][\"size\"].append(size)\n",
        "\n",
        "    print(\"NCA:\")\n",
        "    nca_metrics = evaluate(nca, loader, name=\"NCA\", size=size, is_NCA=True)\n",
        "    for k in nca_metrics:\n",
        "        results[\"NCA\"][k].append(nca_metrics[k])\n",
        "    results[\"NCA\"][\"size\"].append(size)"
      ],
      "metadata": {
        "id": "cf3d183311fa590c",
        "outputId": "92f3ac24-5527-4625-9264-342142814d4d",
        "colab": {
          "base_uri": "https://localhost:8080/"
        }
      },
      "id": "cf3d183311fa590c"
    },
    {
      "cell_type": "code",
      "source": [
        "plot_comparison(results)"
      ],
      "metadata": {
        "id": "MvHBZn9YuSTN",
        "colab": {
          "base_uri": "https://localhost:8080/"
        },
        "outputId": "23ee9da4-f74d-4af6-e917-fc7d062d1cb4"
      },
      "id": "MvHBZn9YuSTN",
      "execution_count": 11,
      "outputs": [
        {
          "output_type": "stream",
          "name": "stdout",
          "text": [
            "Saved: /content/drive/MyDrive/NCA/results/comparison_overall_acc.png\n",
            "Saved: /content/drive/MyDrive/NCA/results/comparison_bal_acc.png\n",
            "Saved: /content/drive/MyDrive/NCA/results/comparison_mae.png\n",
            "Saved: /content/drive/MyDrive/NCA/results/comparison_brier.png\n",
            "Saved: /content/drive/MyDrive/NCA/results/comparison_nll.png\n",
            "Saved: /content/drive/MyDrive/NCA/results/comparison_entropy.png\n",
            "Saved: /content/drive/MyDrive/NCA/results/comparison_ece.png\n"
          ]
        }
      ]
    }
  ],
  "metadata": {
    "kernelspec": {
      "display_name": "Python 3",
      "name": "python3"
    },
    "language_info": {
      "codemirror_mode": {
        "name": "ipython",
        "version": 2
      },
      "file_extension": ".py",
      "mimetype": "text/x-python",
      "name": "python",
      "nbconvert_exporter": "python",
      "pygments_lexer": "ipython2",
      "version": "2.7.6"
    },
    "colab": {
      "provenance": [],
      "gpuType": "T4"
    },
    "accelerator": "GPU"
  },
  "nbformat": 4,
  "nbformat_minor": 5
}