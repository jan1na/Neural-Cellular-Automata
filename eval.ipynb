{
 "cells": [
  {
   "cell_type": "code",
   "source": [
    "!git clone https://github.com/jan1na/Neural-Cellular-Automata.git\n",
    "\n",
    "%cd Neural-Cellular-Automata"
   ],
   "metadata": {
    "id": "pGf1SgRGQHmM",
    "outputId": "d6b453be-af83-4f71-b177-2fe7108924d6",
    "colab": {
     "base_uri": "https://localhost:8080/"
    }
   },
   "id": "pGf1SgRGQHmM",
   "execution_count": 8,
   "outputs": [
    {
     "output_type": "stream",
     "name": "stdout",
     "text": [
      "Cloning into 'Neural-Cellular-Automata'...\n",
      "remote: Enumerating objects: 44, done.\u001B[K\n",
      "remote: Counting objects: 100% (44/44), done.\u001B[K\n",
      "remote: Compressing objects: 100% (32/32), done.\u001B[K\n",
      "remote: Total 44 (delta 23), reused 19 (delta 10), pack-reused 0 (from 0)\u001B[K\n",
      "Receiving objects: 100% (44/44), 29.37 KiB | 4.89 MiB/s, done.\n",
      "Resolving deltas: 100% (23/23), done.\n",
      "/content/Neural-Cellular-Automata/Neural-Cellular-Automata\n"
     ]
    }
   ]
  },
  {
   "cell_type": "code",
   "execution_count": 9,
   "id": "initial_id",
   "metadata": {
    "collapsed": true,
    "id": "initial_id",
    "outputId": "a6a97d32-cbda-4c84-b156-4f2c52f5a1e9",
    "colab": {
     "base_uri": "https://localhost:8080/"
    }
   },
   "outputs": [
    {
     "output_type": "stream",
     "name": "stdout",
     "text": [
      "Drive already mounted at /content/drive; to attempt to forcibly remount, call drive.mount(\"/content/drive\", force_remount=True).\n",
      "Using device: cuda\n"
     ]
    }
   ],
   "source": [
    "!pip install -q medmnist scikit-learn\n",
    "\n",
    "import torch\n",
    "from torch.utils.data import DataLoader\n",
    "from torchvision import transforms\n",
    "from medmnist import PathMNIST\n",
    "import matplotlib.pyplot as plt\n",
    "from sklearn.metrics import classification_report, confusion_matrix, balanced_accuracy_score, mean_absolute_error\n",
    "import seaborn as sns\n",
    "from models import NCA, CNNBaseline\n",
    "\n",
    "from google.colab import drive\n",
    "drive.mount('/content/drive')\n",
    "\n",
    "device = torch.device(\"cuda\" if torch.cuda.is_available() else \"cpu\")\n",
    "print(\"Using device:\", device)"
   ]
  },
  {
   "cell_type": "code",
   "execution_count": 10,
   "outputs": [
    {
     "output_type": "stream",
     "name": "stdout",
     "text": [
      "Copied pathmnist.npz to cache.\n",
      "Copied pathmnist_64.npz to cache.\n",
      "Copied pathmnist_128.npz to cache.\n",
      "Copied pathmnist_224.npz to cache.\n"
     ]
    }
   ],
   "source": [
    "from google.colab import drive\n",
    "import os\n",
    "import shutil\n",
    "\n",
    "drive_folder = \"/content/drive/MyDrive/NCA/DATA\"\n",
    "cache_dir = os.path.expanduser(\"~/.medmnist\")\n",
    "os.makedirs(cache_dir, exist_ok=True)\n",
    "\n",
    "resolutions = [\"\", \"_64\", \"_128\", \"_224\"]\n",
    "for res in resolutions:\n",
    "    filename = f\"pathmnist{res}.npz\"\n",
    "    src = os.path.join(drive_folder, filename)\n",
    "    dst = os.path.join(cache_dir, filename)\n",
    "\n",
    "    if os.path.exists(src):\n",
    "        shutil.copyfile(src, dst)\n",
    "        print(f\"Copied {filename} to cache.\")\n",
    "    else:\n",
    "        print(f\"File not found in Drive: {filename}\")"
   ],
   "metadata": {
    "id": "349d3805c367abc6",
    "outputId": "d838c47e-de3f-438b-8b96-c85373911695",
    "colab": {
     "base_uri": "https://localhost:8080/"
    }
   },
   "id": "349d3805c367abc6"
  },
  {
   "cell_type": "code",
   "execution_count": 11,
   "outputs": [
    {
     "output_type": "execute_result",
     "data": {
      "text/plain": [
       "CNNBaseline(\n",
       "  (features): Sequential(\n",
       "    (0): Conv2d(3, 32, kernel_size=(3, 3), stride=(1, 1), padding=(1, 1))\n",
       "    (1): ReLU()\n",
       "    (2): MaxPool2d(kernel_size=2, stride=2, padding=0, dilation=1, ceil_mode=False)\n",
       "    (3): Conv2d(32, 64, kernel_size=(3, 3), stride=(1, 1), padding=(1, 1))\n",
       "    (4): ReLU()\n",
       "    (5): MaxPool2d(kernel_size=2, stride=2, padding=0, dilation=1, ceil_mode=False)\n",
       "    (6): Conv2d(64, 128, kernel_size=(3, 3), stride=(1, 1), padding=(1, 1))\n",
       "    (7): ReLU()\n",
       "  )\n",
       "  (pool): AdaptiveAvgPool2d(output_size=(1, 1))\n",
       "  (fc): Linear(in_features=128, out_features=9, bias=True)\n",
       ")"
      ]
     },
     "metadata": {},
     "execution_count": 11
    }
   ],
   "source": [
    "nca = NCA().to(device)\n",
    "nca.load_state_dict(torch.load(\"/content/drive/MyDrive/NCA/best_nca_pathmnist.pth\"))\n",
    "nca.eval()\n",
    "\n",
    "cnn = CNNBaseline().to(device)\n",
    "cnn.load_state_dict(torch.load(\"/content/drive/MyDrive/NCA/best_cnn_pathmnist.pth\"))\n",
    "cnn.eval()"
   ],
   "metadata": {
    "id": "952872a274a32592",
    "outputId": "4adafe91-1531-4b31-c7c9-f5f960afe719",
    "colab": {
     "base_uri": "https://localhost:8080/"
    }
   },
   "id": "952872a274a32592"
  },
  {
   "cell_type": "code",
   "execution_count": 12,
   "outputs": [],
   "source": [
    "def get_loader(size, batch_size=64):\n",
    "    transform = transforms.Compose([transforms.ToTensor()])\n",
    "    dataset = PathMNIST(split=\"test\", size=size, download=False, transform=transform)\n",
    "    return DataLoader(dataset, batch_size=batch_size, shuffle=False)"
   ],
   "metadata": {
    "id": "fed7579ccabc28e4",
    "cellView": "code"
   },
   "id": "fed7579ccabc28e4"
  },
  {
   "cell_type": "code",
   "execution_count": 13,
   "outputs": [],
   "source": [
    "@torch.no_grad()\n",
    "def evaluate(model, loader, name=\"Model\", size=28, save_dir=\"/content/drive/MyDrive/NCA/results\", is_NCA=False):\n",
    "    all_preds, all_labels = [], []\n",
    "\n",
    "    for x, y in loader:\n",
    "        x, y = x.to(device), y.squeeze()\n",
    "        if is_NCA:\n",
    "            out, rgb_steps = model(x, is_NCA=True)\n",
    "            print(\"rgb_steps:\", rgb_steps)\n",
    "        else:\n",
    "            out = model(x)\n",
    "        pred = out.argmax(dim=1).cpu().numpy()\n",
    "        label = y.numpy()\n",
    "        all_preds.extend(pred)\n",
    "        all_labels.extend(label)\n",
    "\n",
    "    # Metrics\n",
    "    cm = confusion_matrix(all_labels, all_preds)\n",
    "    bal_acc = balanced_accuracy_score(all_labels, all_preds)\n",
    "    mae = mean_absolute_error(all_labels, all_preds)\n",
    "    report = classification_report(all_labels, all_preds, digits=4)\n",
    "\n",
    "    # Logging\n",
    "    print(f\"\\n{name} @ {size}x{size}\")\n",
    "    print(\"Balanced Accuracy:\", f\"{bal_acc:.4f}\")\n",
    "    print(\"Mean Absolute Error (MAE):\", f\"{mae:.4f}\")\n",
    "    print(report)\n",
    "\n",
    "    # Save confusion matrix\n",
    "    os.makedirs(save_dir, exist_ok=True)\n",
    "    plt.figure(figsize=(8, 6))\n",
    "    sns.heatmap(cm, annot=True, fmt='d', cmap='Blues')\n",
    "    plt.title(f\"Confusion Matrix: {name} @ {size}x{size}\")\n",
    "    plt.xlabel(\"Predicted\")\n",
    "    plt.ylabel(\"True\")\n",
    "    fname = f\"{save_dir}/cm_{name.replace(' ', '_')}_{size}x{size}.png\"\n",
    "    plt.savefig(fname)\n",
    "    plt.close()\n",
    "    print(f\"Confusion matrix saved to: {fname}\")"
   ],
   "metadata": {
    "id": "cb4d8ed9ab50385b"
   },
   "id": "cb4d8ed9ab50385b"
  },
  {
   "cell_type": "code",
   "execution_count": 14,
   "outputs": [
    {
     "output_type": "stream",
     "name": "stdout",
     "text": [
      "\n",
      "==============================\n",
      "Resolution: 28x28\n",
      "CNN:\n",
      "\n",
      "CNN @ 28x28\n",
      "Balanced Accuracy: 0.7675\n",
      "Mean Absolute Error (MAE): 0.5617\n",
      "              precision    recall  f1-score   support\n",
      "\n",
      "           0     0.9378    0.9686    0.9529      1338\n",
      "           1     0.8255    1.0000    0.9044       847\n",
      "           2     0.4222    0.7847    0.5490       339\n",
      "           3     0.9677    0.7082    0.8179       634\n",
      "           4     0.9144    0.7845    0.8445      1035\n",
      "           5     0.8065    0.5912    0.6823       592\n",
      "           6     0.6764    0.7530    0.7126       741\n",
      "           7     0.6529    0.4513    0.5337       421\n",
      "           8     0.8613    0.8662    0.8637      1233\n",
      "\n",
      "    accuracy                         0.8128      7180\n",
      "   macro avg     0.7850    0.7675    0.7623      7180\n",
      "weighted avg     0.8318    0.8128    0.8136      7180\n",
      "\n",
      "Confusion matrix saved to: /content/drive/MyDrive/NCA/results/cm_CNN_28x28.png\n",
      "NCA:\n",
      "\n",
      "NCA @ 28x28\n",
      "Balanced Accuracy: 0.7784\n",
      "Mean Absolute Error (MAE): 0.5340\n",
      "              precision    recall  f1-score   support\n",
      "\n",
      "           0     0.9465    0.9791    0.9625      1338\n",
      "           1     0.7638    1.0000    0.8661       847\n",
      "           2     0.5496    0.7847    0.6464       339\n",
      "           3     0.9493    0.9748    0.9619       634\n",
      "           4     0.9212    0.6435    0.7577      1035\n",
      "           5     0.7898    0.3936    0.5254       592\n",
      "           6     0.8923    0.8273    0.8585       741\n",
      "           7     0.3848    0.4798    0.4271       421\n",
      "           8     0.8608    0.9230    0.8908      1233\n",
      "\n",
      "    accuracy                         0.8208      7180\n",
      "   macro avg     0.7842    0.7784    0.7663      7180\n",
      "weighted avg     0.8366    0.8208    0.8161      7180\n",
      "\n",
      "Confusion matrix saved to: /content/drive/MyDrive/NCA/results/cm_NCA_28x28.png\n",
      "\n",
      "==============================\n",
      "Resolution: 64x64\n",
      "CNN:\n",
      "\n",
      "CNN @ 64x64\n",
      "Balanced Accuracy: 0.6242\n",
      "Mean Absolute Error (MAE): 0.8182\n",
      "              precision    recall  f1-score   support\n",
      "\n",
      "           0     0.9853    0.7534    0.8539      1338\n",
      "           1     0.8869    1.0000    0.9401       847\n",
      "           2     0.1918    0.5959    0.2902       339\n",
      "           3     0.8750    0.1325    0.2301       634\n",
      "           4     0.6184    0.8831    0.7274      1035\n",
      "           5     0.7957    0.5659    0.6614       592\n",
      "           6     0.6541    0.4899    0.5602       741\n",
      "           7     0.4499    0.3729    0.4078       421\n",
      "           8     0.8128    0.8240    0.8184      1233\n",
      "\n",
      "    accuracy                         0.6861      7180\n",
      "   macro avg     0.6967    0.6242    0.6099      7180\n",
      "weighted avg     0.7628    0.6861    0.6857      7180\n",
      "\n",
      "Confusion matrix saved to: /content/drive/MyDrive/NCA/results/cm_CNN_64x64.png\n",
      "NCA:\n",
      "\n",
      "NCA @ 64x64\n",
      "Balanced Accuracy: 0.6322\n",
      "Mean Absolute Error (MAE): 0.9146\n",
      "              precision    recall  f1-score   support\n",
      "\n",
      "           0     0.9838    0.8176    0.8931      1338\n",
      "           1     0.8144    1.0000    0.8977       847\n",
      "           2     0.3085    0.7699    0.4405       339\n",
      "           3     0.9503    0.4826    0.6402       634\n",
      "           4     0.7003    0.8377    0.7629      1035\n",
      "           5     0.2340    0.0372    0.0641       592\n",
      "           6     0.7650    0.4656    0.5789       741\n",
      "           7     0.4734    0.3587    0.4081       421\n",
      "           8     0.6456    0.9205    0.7589      1233\n",
      "\n",
      "    accuracy                         0.7003      7180\n",
      "   macro avg     0.6528    0.6322    0.6049      7180\n",
      "weighted avg     0.7157    0.7003    0.6789      7180\n",
      "\n",
      "Confusion matrix saved to: /content/drive/MyDrive/NCA/results/cm_NCA_64x64.png\n",
      "\n",
      "==============================\n",
      "Resolution: 128x128\n",
      "CNN:\n",
      "\n",
      "CNN @ 128x128\n",
      "Balanced Accuracy: 0.4775\n",
      "Mean Absolute Error (MAE): 1.5713\n",
      "              precision    recall  f1-score   support\n",
      "\n",
      "           0     0.9938    0.1188    0.2123      1338\n",
      "           1     0.9187    1.0000    0.9576       847\n",
      "           2     0.2545    0.9145    0.3982       339\n",
      "           3     0.0000    0.0000    0.0000       634\n",
      "           4     0.4161    0.9816    0.5844      1035\n",
      "           5     0.5759    0.1537    0.2427       592\n",
      "           6     0.5546    0.4184    0.4769       741\n",
      "           7     0.2113    0.0356    0.0610       421\n",
      "           8     0.5082    0.6748    0.5798      1233\n",
      "\n",
      "    accuracy                         0.4986      7180\n",
      "   macro avg     0.4926    0.4775    0.3903      7180\n",
      "weighted avg     0.5699    0.4986    0.4279      7180\n",
      "\n",
      "Confusion matrix saved to: /content/drive/MyDrive/NCA/results/cm_CNN_128x128.png\n",
      "NCA:\n",
      "\n",
      "NCA @ 128x128\n",
      "Balanced Accuracy: 0.4055\n",
      "Mean Absolute Error (MAE): 1.5078\n",
      "              precision    recall  f1-score   support\n",
      "\n",
      "           0     1.0000    0.0815    0.1507      1338\n",
      "           1     0.3988    1.0000    0.5702       847\n",
      "           2     0.4333    0.6136    0.5079       339\n",
      "           3     0.4444    0.0126    0.0245       634\n",
      "           4     0.7897    0.8454    0.8166      1035\n",
      "           5     0.2432    0.0152    0.0286       592\n",
      "           6     0.3148    0.0229    0.0428       741\n",
      "           7     0.5794    0.1473    0.2348       421\n",
      "           8     0.3573    0.9108    0.5133      1233\n",
      "\n",
      "    accuracy                         0.4538      7180\n",
      "   macro avg     0.5068    0.4055    0.3210      7180\n",
      "weighted avg     0.5548    0.4538    0.3479      7180\n",
      "\n",
      "Confusion matrix saved to: /content/drive/MyDrive/NCA/results/cm_NCA_128x128.png\n",
      "\n",
      "==============================\n",
      "Resolution: 224x224\n",
      "CNN:\n",
      "\n",
      "CNN @ 224x224\n",
      "Balanced Accuracy: 0.4015\n",
      "Mean Absolute Error (MAE): 1.9591\n",
      "              precision    recall  f1-score   support\n",
      "\n",
      "           0     1.0000    0.0919    0.1684      1338\n",
      "           1     0.8777    1.0000    0.9349       847\n",
      "           2     0.3106    0.7375    0.4371       339\n",
      "           3     0.0000    0.0000    0.0000       634\n",
      "           4     0.3677    0.9894    0.5361      1035\n",
      "           5     0.6000    0.0963    0.1659       592\n",
      "           6     0.3621    0.1134    0.1727       741\n",
      "           7     0.0851    0.0095    0.0171       421\n",
      "           8     0.3347    0.5758    0.4234      1233\n",
      "\n",
      "    accuracy                         0.4316      7180\n",
      "   macro avg     0.4375    0.4015    0.3173      7180\n",
      "weighted avg     0.5069    0.4316    0.3448      7180\n",
      "\n",
      "Confusion matrix saved to: /content/drive/MyDrive/NCA/results/cm_CNN_224x224.png\n",
      "NCA:\n"
     ]
    },
    {
     "output_type": "stream",
     "name": "stderr",
     "text": [
      "/usr/local/lib/python3.11/dist-packages/sklearn/metrics/_classification.py:1565: UndefinedMetricWarning: Precision is ill-defined and being set to 0.0 in labels with no predicted samples. Use `zero_division` parameter to control this behavior.\n",
      "  _warn_prf(average, modifier, f\"{metric.capitalize()} is\", len(result))\n",
      "/usr/local/lib/python3.11/dist-packages/sklearn/metrics/_classification.py:1565: UndefinedMetricWarning: Precision is ill-defined and being set to 0.0 in labels with no predicted samples. Use `zero_division` parameter to control this behavior.\n",
      "  _warn_prf(average, modifier, f\"{metric.capitalize()} is\", len(result))\n",
      "/usr/local/lib/python3.11/dist-packages/sklearn/metrics/_classification.py:1565: UndefinedMetricWarning: Precision is ill-defined and being set to 0.0 in labels with no predicted samples. Use `zero_division` parameter to control this behavior.\n",
      "  _warn_prf(average, modifier, f\"{metric.capitalize()} is\", len(result))\n"
     ]
    },
    {
     "output_type": "stream",
     "name": "stdout",
     "text": [
      "\n",
      "NCA @ 224x224\n",
      "Balanced Accuracy: 0.2798\n",
      "Mean Absolute Error (MAE): 1.8765\n",
      "              precision    recall  f1-score   support\n",
      "\n",
      "           0     0.0000    0.0000    0.0000      1338\n",
      "           1     0.3238    0.9988    0.4890       847\n",
      "           2     0.8778    0.4661    0.6089       339\n",
      "           3     0.0000    0.0000    0.0000       634\n",
      "           4     0.5315    0.1710    0.2588      1035\n",
      "           5     0.2188    0.0236    0.0427       592\n",
      "           6     0.0016    0.0013    0.0015       741\n",
      "           7     0.1682    0.6105    0.2637       421\n",
      "           8     0.1655    0.2466    0.1980      1233\n",
      "\n",
      "    accuracy                         0.2447      7180\n",
      "   macro avg     0.2541    0.2798    0.2070      7180\n",
      "weighted avg     0.2127    0.2447    0.1769      7180\n",
      "\n",
      "Confusion matrix saved to: /content/drive/MyDrive/NCA/results/cm_NCA_224x224.png\n"
     ]
    }
   ],
   "source": [
    "for size in [28, 64, 128, 224]:\n",
    "    print(f\"\\n==============================\")\n",
    "    print(f\"Resolution: {size}x{size}\")\n",
    "    loader = get_loader(size)\n",
    "\n",
    "    print(\"CNN:\")\n",
    "    evaluate(cnn, loader, name=\"CNN\", size=size)\n",
    "\n",
    "    print(\"NCA:\")\n",
    "    evaluate(nca, loader, name=\"NCA\", size=size)"
   ],
   "metadata": {
    "id": "cf3d183311fa590c",
    "outputId": "c67db0f1-e8d3-4f6f-987c-f322b930ba28",
    "colab": {
     "base_uri": "https://localhost:8080/"
    }
   },
   "id": "cf3d183311fa590c"
  }
 ],
 "metadata": {
  "kernelspec": {
   "display_name": "Python 3",
   "name": "python3"
  },
  "language_info": {
   "codemirror_mode": {
    "name": "ipython",
    "version": 2
   },
   "file_extension": ".py",
   "mimetype": "text/x-python",
   "name": "python",
   "nbconvert_exporter": "python",
   "pygments_lexer": "ipython2",
   "version": "2.7.6"
  },
  "colab": {
   "provenance": [],
   "gpuType": "T4",
   "toc_visible": true
  },
  "accelerator": "GPU"
 },
 "nbformat": 4,
 "nbformat_minor": 5
}
