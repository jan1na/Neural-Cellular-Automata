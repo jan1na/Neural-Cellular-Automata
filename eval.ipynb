{
  "cells": [
    {
      "cell_type": "code",
      "source": [
        "!git clone https://github.com/jan1na/Neural-Cellular-Automata.git\n",
        "\n",
        "%cd Neural-Cellular-Automata"
      ],
      "metadata": {
        "id": "pGf1SgRGQHmM",
        "outputId": "e04fe486-6b54-4f53-9fe1-cddb32be24e7",
        "colab": {
          "base_uri": "https://localhost:8080/"
        }
      },
      "id": "pGf1SgRGQHmM",
      "execution_count": null,
      "outputs": [
        {
          "output_type": "stream",
          "name": "stdout",
          "text": [
            "Cloning into 'Neural-Cellular-Automata'...\n",
            "remote: Enumerating objects: 102, done.\u001b[K\n",
            "remote: Counting objects: 100% (102/102), done.\u001b[K\n",
            "remote: Compressing objects: 100% (76/76), done.\u001b[K\n",
            "remote: Total 102 (delta 61), reused 43 (delta 23), pack-reused 0 (from 0)\u001b[K\n",
            "Receiving objects: 100% (102/102), 333.17 KiB | 1.34 MiB/s, done.\n",
            "Resolving deltas: 100% (61/61), done.\n",
            "/content/Neural-Cellular-Automata\n"
          ]
        }
      ]
    },
    {
      "cell_type": "code",
      "source": [
        "!pip install -U gdown\n",
        "\n",
        "file_ids = ['1W7y-7ebqUCFW2ZPEsafABw_OPnXRr6cj',\n",
        "            '1L99QItxhTDj3dS1dd8ubmxka4FxXb2HG',\n",
        "            '1PqrOpn4NJF3xp4Jw2KtRRVD_20Feucsc',\n",
        "            '1DtZJ5eD2PV4sO51MMQy9CVTZxgBKj_Gx']\n",
        "\n",
        "file_names = ['pathmnist.npz', 'pathmnist_64.npz', 'pathmnist_128.npz', 'pathmnist_224.npz']\n",
        "\n",
        "for file_id, file_name in zip(file_ids, file_names):\n",
        "    !gdown --id {file_id} --output {file_name}"
      ],
      "metadata": {
        "colab": {
          "base_uri": "https://localhost:8080/"
        },
        "id": "8rpZOHk9G2SR",
        "outputId": "7f8b8481-ecd9-404c-ee40-ec42d80a21b6"
      },
      "id": "8rpZOHk9G2SR",
      "execution_count": null,
      "outputs": [
        {
          "output_type": "stream",
          "name": "stdout",
          "text": [
            "Requirement already satisfied: gdown in /usr/local/lib/python3.11/dist-packages (5.2.0)\n",
            "Requirement already satisfied: beautifulsoup4 in /usr/local/lib/python3.11/dist-packages (from gdown) (4.13.4)\n",
            "Requirement already satisfied: filelock in /usr/local/lib/python3.11/dist-packages (from gdown) (3.18.0)\n",
            "Requirement already satisfied: requests[socks] in /usr/local/lib/python3.11/dist-packages (from gdown) (2.32.3)\n",
            "Requirement already satisfied: tqdm in /usr/local/lib/python3.11/dist-packages (from gdown) (4.67.1)\n",
            "Requirement already satisfied: soupsieve>1.2 in /usr/local/lib/python3.11/dist-packages (from beautifulsoup4->gdown) (2.7)\n",
            "Requirement already satisfied: typing-extensions>=4.0.0 in /usr/local/lib/python3.11/dist-packages (from beautifulsoup4->gdown) (4.14.0)\n",
            "Requirement already satisfied: charset-normalizer<4,>=2 in /usr/local/lib/python3.11/dist-packages (from requests[socks]->gdown) (3.4.2)\n",
            "Requirement already satisfied: idna<4,>=2.5 in /usr/local/lib/python3.11/dist-packages (from requests[socks]->gdown) (3.10)\n",
            "Requirement already satisfied: urllib3<3,>=1.21.1 in /usr/local/lib/python3.11/dist-packages (from requests[socks]->gdown) (2.4.0)\n",
            "Requirement already satisfied: certifi>=2017.4.17 in /usr/local/lib/python3.11/dist-packages (from requests[socks]->gdown) (2025.6.15)\n",
            "Requirement already satisfied: PySocks!=1.5.7,>=1.5.6 in /usr/local/lib/python3.11/dist-packages (from requests[socks]->gdown) (1.7.1)\n",
            "/usr/local/lib/python3.11/dist-packages/gdown/__main__.py:140: FutureWarning: Option `--id` was deprecated in version 4.3.1 and will be removed in 5.0. You don't need to pass it anymore to use a file ID.\n",
            "  warnings.warn(\n",
            "Downloading...\n",
            "From (original): https://drive.google.com/uc?id=1W7y-7ebqUCFW2ZPEsafABw_OPnXRr6cj\n",
            "From (redirected): https://drive.google.com/uc?id=1W7y-7ebqUCFW2ZPEsafABw_OPnXRr6cj&confirm=t&uuid=9d64e7b1-eb18-4a93-aea4-2575b7964729\n",
            "To: /content/Neural-Cellular-Automata/pathmnist.npz\n",
            "100% 206M/206M [00:03<00:00, 57.0MB/s]\n",
            "/usr/local/lib/python3.11/dist-packages/gdown/__main__.py:140: FutureWarning: Option `--id` was deprecated in version 4.3.1 and will be removed in 5.0. You don't need to pass it anymore to use a file ID.\n",
            "  warnings.warn(\n",
            "Downloading...\n",
            "From (original): https://drive.google.com/uc?id=1L99QItxhTDj3dS1dd8ubmxka4FxXb2HG\n",
            "From (redirected): https://drive.google.com/uc?id=1L99QItxhTDj3dS1dd8ubmxka4FxXb2HG&confirm=t&uuid=498ec29a-d3fe-42fc-9691-37a59631f2ef\n",
            "To: /content/Neural-Cellular-Automata/pathmnist_64.npz\n",
            "100% 1.07G/1.07G [00:12<00:00, 83.5MB/s]\n",
            "/usr/local/lib/python3.11/dist-packages/gdown/__main__.py:140: FutureWarning: Option `--id` was deprecated in version 4.3.1 and will be removed in 5.0. You don't need to pass it anymore to use a file ID.\n",
            "  warnings.warn(\n",
            "Downloading...\n",
            "From (original): https://drive.google.com/uc?id=1PqrOpn4NJF3xp4Jw2KtRRVD_20Feucsc\n",
            "From (redirected): https://drive.google.com/uc?id=1PqrOpn4NJF3xp4Jw2KtRRVD_20Feucsc&confirm=t&uuid=a252e2e5-b9eb-454f-a089-80b5250da6a7\n",
            "To: /content/Neural-Cellular-Automata/pathmnist_128.npz\n",
            "100% 4.26G/4.26G [00:53<00:00, 78.9MB/s]\n",
            "/usr/local/lib/python3.11/dist-packages/gdown/__main__.py:140: FutureWarning: Option `--id` was deprecated in version 4.3.1 and will be removed in 5.0. You don't need to pass it anymore to use a file ID.\n",
            "  warnings.warn(\n",
            "Downloading...\n",
            "From (original): https://drive.google.com/uc?id=1DtZJ5eD2PV4sO51MMQy9CVTZxgBKj_Gx\n",
            "From (redirected): https://drive.google.com/uc?id=1DtZJ5eD2PV4sO51MMQy9CVTZxgBKj_Gx&confirm=t&uuid=0da5c637-38b1-41e3-9f4f-3282ea78bcd3\n",
            "To: /content/Neural-Cellular-Automata/pathmnist_224.npz\n",
            "100% 12.6G/12.6G [02:56<00:00, 71.5MB/s]\n"
          ]
        }
      ]
    },
    {
      "cell_type": "code",
      "source": [
        "from google.colab import drive\n",
        "drive.mount('/content/drive')"
      ],
      "metadata": {
        "id": "rmkrrou1LBXf",
        "outputId": "1d787912-79e5-41dc-e122-89d19d725c33",
        "colab": {
          "base_uri": "https://localhost:8080/"
        }
      },
      "id": "rmkrrou1LBXf",
      "execution_count": null,
      "outputs": [
        {
          "output_type": "stream",
          "name": "stdout",
          "text": [
            "Mounted at /content/drive\n"
          ]
        }
      ]
    },
    {
      "cell_type": "code",
      "execution_count": null,
      "id": "initial_id",
      "metadata": {
        "collapsed": true,
        "id": "initial_id",
        "outputId": "a824eefa-50a9-4331-c987-af7303a99f6e",
        "colab": {
          "base_uri": "https://localhost:8080/"
        }
      },
      "outputs": [
        {
          "output_type": "stream",
          "name": "stdout",
          "text": [
            "Using device: cuda\n"
          ]
        }
      ],
      "source": [
        "!pip install -q medmnist scikit-learn\n",
        "\n",
        "import torch\n",
        "from torch.utils.data import DataLoader\n",
        "from torchvision import transforms\n",
        "from torchmetrics.classification import MulticlassCalibrationError\n",
        "from medmnist import PathMNIST\n",
        "import matplotlib.pyplot as plt\n",
        "from sklearn.metrics import classification_report, confusion_matrix, accuracy_score, balanced_accuracy_score, mean_absolute_error, brier_score_loss\n",
        "from sklearn.preprocessing import label_binarize\n",
        "import seaborn as sns\n",
        "from models import NCA, CNNBaseline\n",
        "import torch.nn.functional as F\n",
        "import numpy as np\n",
        "\n",
        "\n",
        "\n",
        "device = torch.device(\"cuda\" if torch.cuda.is_available() else \"cpu\")\n",
        "print(\"Using device:\", device)"
      ]
    },
    {
      "cell_type": "code",
      "execution_count": null,
      "outputs": [
        {
          "output_type": "stream",
          "name": "stdout",
          "text": [
            "Copied pathmnist.npz to cache.\n",
            "Copied pathmnist_64.npz to cache.\n",
            "Copied pathmnist_128.npz to cache.\n",
            "Copied pathmnist_224.npz to cache.\n"
          ]
        }
      ],
      "source": [
        "from google.colab import drive\n",
        "import os\n",
        "import shutil\n",
        "\n",
        "drive_folder = \"/content/Neural-Cellular-Automata/\"\n",
        "cache_dir = os.path.expanduser(\"~/.medmnist\")\n",
        "os.makedirs(cache_dir, exist_ok=True)\n",
        "\n",
        "resolutions = [\"\", \"_64\", \"_128\", \"_224\"]\n",
        "for res in resolutions:\n",
        "    filename = f\"pathmnist{res}.npz\"\n",
        "    src = os.path.join(drive_folder, filename)\n",
        "    dst = os.path.join(cache_dir, filename)\n",
        "\n",
        "    if os.path.exists(src):\n",
        "        shutil.copyfile(src, dst)\n",
        "        print(f\"Copied {filename} to cache.\")\n",
        "    else:\n",
        "        print(f\"File not found in Drive: {filename}\")"
      ],
      "metadata": {
        "id": "349d3805c367abc6",
        "outputId": "2c5a3ccd-cda6-4b8e-d393-f2cedf35858b",
        "colab": {
          "base_uri": "https://localhost:8080/"
        }
      },
      "id": "349d3805c367abc6"
    },
    {
      "cell_type": "code",
      "execution_count": null,
      "outputs": [
        {
          "output_type": "execute_result",
          "data": {
            "text/plain": [
              "CNNBaseline(\n",
              "  (features): Sequential(\n",
              "    (0): Conv2d(3, 32, kernel_size=(3, 3), stride=(1, 1), padding=(1, 1))\n",
              "    (1): ReLU()\n",
              "    (2): MaxPool2d(kernel_size=2, stride=2, padding=0, dilation=1, ceil_mode=False)\n",
              "    (3): Conv2d(32, 64, kernel_size=(3, 3), stride=(1, 1), padding=(1, 1))\n",
              "    (4): ReLU()\n",
              "    (5): MaxPool2d(kernel_size=2, stride=2, padding=0, dilation=1, ceil_mode=False)\n",
              "    (6): Conv2d(64, 128, kernel_size=(3, 3), stride=(1, 1), padding=(1, 1))\n",
              "    (7): ReLU()\n",
              "  )\n",
              "  (pool): AdaptiveAvgPool2d(output_size=(1, 1))\n",
              "  (fc): Linear(in_features=128, out_features=9, bias=True)\n",
              ")"
            ]
          },
          "metadata": {},
          "execution_count": 6
        }
      ],
      "source": [
        "nca = NCA().to(device)\n",
        "nca.load_state_dict(torch.load(\"/content/drive/MyDrive/NCA/best_nca_pathmnist.pth\"))\n",
        "nca.eval()\n",
        "\n",
        "cnn = CNNBaseline().to(device)\n",
        "cnn.load_state_dict(torch.load(\"/content/drive/MyDrive/NCA/best_cnn_pathmnist.pth\"))\n",
        "cnn.eval()"
      ],
      "metadata": {
        "id": "952872a274a32592",
        "outputId": "6c159834-2ec6-4721-ab20-1b3adefb2f94",
        "colab": {
          "base_uri": "https://localhost:8080/"
        }
      },
      "id": "952872a274a32592"
    },
    {
      "cell_type": "code",
      "execution_count": null,
      "outputs": [],
      "source": [
        "def get_loader(size, batch_size=64):\n",
        "    transform = transforms.Compose([transforms.ToTensor()])\n",
        "    dataset = PathMNIST(split=\"test\", size=size, download=False, transform=transform)\n",
        "    return DataLoader(dataset, batch_size=batch_size, shuffle=False)"
      ],
      "metadata": {
        "id": "fed7579ccabc28e4",
        "cellView": "code"
      },
      "id": "fed7579ccabc28e4"
    },
    {
      "cell_type": "code",
      "execution_count": null,
      "outputs": [],
      "source": [
        "@torch.no_grad()\n",
        "def evaluate(model, loader, name=\"Model\", size=28, save_dir=\"/content/drive/MyDrive/NCA/results\", is_NCA=False):\n",
        "    all_preds, all_labels, all_logits = [], [], []\n",
        "\n",
        "    for x, y in loader:\n",
        "        x, y = x.to(device), y.squeeze()\n",
        "        if is_NCA:\n",
        "            out, rgb_steps = model(x, True)\n",
        "        else:\n",
        "            out = model(x)\n",
        "\n",
        "        all_logits.append(out.cpu())\n",
        "        pred = out.argmax(dim=1).cpu().numpy()\n",
        "        label = y.numpy()\n",
        "        all_preds.extend(pred)\n",
        "        all_labels.extend(label)\n",
        "\n",
        "    # Converting for scores\n",
        "    logits = torch.cat(all_logits)  # (N, C)\n",
        "    probs = F.softmax(logits, dim=1).numpy()  # (N, C)\n",
        "    all_preds = np.array(all_preds)\n",
        "    all_labels = np.array(all_labels)\n",
        "\n",
        "    # Metrics\n",
        "    cm = confusion_matrix(all_labels, all_preds)\n",
        "    overall_acc = accuracy_score(all_labels, all_preds)\n",
        "    bal_acc = balanced_accuracy_score(all_labels, all_preds)\n",
        "    mae = mean_absolute_error(all_labels, all_preds)\n",
        "    report = classification_report(all_labels, all_preds, digits=4)\n",
        "\n",
        "\n",
        "    ### Uncertainty Quantification (NQM)\n",
        "\n",
        "    # Brier Score\n",
        "    y_true_bin = label_binarize(all_labels, classes=list(range(probs.shape[1])))\n",
        "    brier = np.mean(np.sum((probs - y_true_bin) ** 2, axis=1))\n",
        "\n",
        "    # NLL (Cross-Entropy)\n",
        "    all_labels_tensor = torch.tensor(all_labels)\n",
        "    nll = F.cross_entropy(logits, all_labels_tensor, reduction='mean').item()\n",
        "\n",
        "    # Entroyp\n",
        "    entropy = -np.sum(probs * np.log(probs + 1e-12), axis=1)\n",
        "    mean_entropy = np.mean(entropy)\n",
        "\n",
        "    # ECE\n",
        "    probs_tensor = torch.from_numpy(probs).float()\n",
        "    labels_tensor = torch.from_numpy(all_labels).long()\n",
        "\n",
        "    ece_metric = MulticlassCalibrationError(num_classes=probs.shape[1], n_bins=15, norm='l1')\n",
        "    ece = ece_metric(probs_tensor, labels_tensor).item()\n",
        "\n",
        "\n",
        "    # Logging\n",
        "    print(f\"\\n{name} @ {size}x{size}\")\n",
        "    print(f\"Overall Accuracy: {overall_acc:.4f}\")\n",
        "    print(\"Balanced Accuracy:\", f\"{bal_acc:.4f}\")\n",
        "    print(\"Mean Absolute Error (MAE):\", f\"{mae:.4f}\")\n",
        "    print(\"\")\n",
        "    print(\"Uncertainty Quantification:\")\n",
        "    print(f\"Brier Score: {brier:.4f}\")\n",
        "    print(f\"NLL (Cross-Entropy)  : {nll:.4f}\")\n",
        "    print(f\"Mean Predictive Entropy: {mean_entropy:.4f}\")\n",
        "    print(f\"Expected Calibration Error (ECE): {ece:.4f}\")\n",
        "\n",
        "    print(report)\n",
        "\n",
        "    # Save confusion matrix\n",
        "    os.makedirs(save_dir, exist_ok=True)\n",
        "    plt.figure(figsize=(8, 6))\n",
        "    sns.heatmap(cm, annot=True, fmt='d', cmap='Blues')\n",
        "    plt.title(f\"Confusion Matrix: {name} @ {size}x{size}\")\n",
        "    plt.xlabel(\"Predicted\")\n",
        "    plt.ylabel(\"True\")\n",
        "    fname = f\"{save_dir}/cm_{name.replace(' ', '_')}_{size}x{size}.png\"\n",
        "    plt.savefig(fname)\n",
        "    plt.close()\n",
        "    print(f\"Confusion matrix saved to: {fname}\")"
      ],
      "metadata": {
        "id": "cb4d8ed9ab50385b"
      },
      "id": "cb4d8ed9ab50385b"
    },
    {
      "cell_type": "code",
      "execution_count": null,
      "outputs": [
        {
          "output_type": "stream",
          "name": "stdout",
          "text": [
            "\n",
            "==============================\n",
            "Resolution: 28x28\n",
            "CNN:\n",
            "\n",
            "CNN @ 28x28\n",
            "Overall Accuracy: 0.8294\n",
            "Balanced Accuracy: 0.7564\n",
            "Brier Score: 0.2654\n",
            "NLL (Cross-Entropy)  : 0.7352\n",
            "Mean Absolute Error (MAE): 0.5134\n",
            "              precision    recall  f1-score   support\n",
            "\n",
            "           0     0.9658    0.9910    0.9782      1338\n",
            "           1     0.9207    1.0000    0.9587       847\n",
            "           2     0.3044    0.4248    0.3547       339\n",
            "           3     0.8541    0.8770    0.8654       634\n",
            "           4     0.9390    0.8329    0.8827      1035\n",
            "           5     0.6284    0.5541    0.5889       592\n",
            "           6     0.9127    0.7193    0.8045       741\n",
            "           7     0.5886    0.4656    0.5199       421\n",
            "           8     0.8272    0.9432    0.8814      1233\n",
            "\n",
            "    accuracy                         0.8294      7180\n",
            "   macro avg     0.7712    0.7564    0.7594      7180\n",
            "weighted avg     0.8363    0.8294    0.8292      7180\n",
            "\n",
            "Confusion matrix saved to: /content/drive/MyDrive/NCA/results/cm_CNN_28x28.png\n",
            "NCA:\n",
            "\n",
            "NCA @ 28x28\n",
            "Overall Accuracy: 0.8981\n",
            "Balanced Accuracy: 0.8619\n",
            "Brier Score: 0.1606\n",
            "NLL (Cross-Entropy)  : 0.4126\n",
            "Mean Absolute Error (MAE): 0.3178\n",
            "              precision    recall  f1-score   support\n",
            "\n",
            "           0     0.9250    0.9858    0.9544      1338\n",
            "           1     0.9305    0.9965    0.9624       847\n",
            "           2     0.6226    0.9735    0.7595       339\n",
            "           3     0.9540    0.9811    0.9673       634\n",
            "           4     0.9750    0.8667    0.9176      1035\n",
            "           5     0.8098    0.7551    0.7815       592\n",
            "           6     0.9408    0.8799    0.9093       741\n",
            "           7     0.9091    0.3563    0.5119       421\n",
            "           8     0.8891    0.9627    0.9245      1233\n",
            "\n",
            "    accuracy                         0.8981      7180\n",
            "   macro avg     0.8840    0.8619    0.8543      7180\n",
            "weighted avg     0.9062    0.8981    0.8920      7180\n",
            "\n",
            "Confusion matrix saved to: /content/drive/MyDrive/NCA/results/cm_NCA_28x28.png\n",
            "\n",
            "==============================\n",
            "Resolution: 64x64\n",
            "CNN:\n",
            "\n",
            "CNN @ 64x64\n",
            "Overall Accuracy: 0.6854\n",
            "Balanced Accuracy: 0.5759\n",
            "Brier Score: 0.4732\n",
            "NLL (Cross-Entropy)  : 1.4629\n",
            "Mean Absolute Error (MAE): 0.8284\n",
            "              precision    recall  f1-score   support\n",
            "\n",
            "           0     0.9655    0.9200    0.9422      1338\n",
            "           1     0.9669    1.0000    0.9832       847\n",
            "           2     0.1054    0.1740    0.1313       339\n",
            "           3     0.7351    0.3107    0.4368       634\n",
            "           4     0.5942    0.8986    0.7154      1035\n",
            "           5     0.4903    0.4713    0.4806       592\n",
            "           6     1.0000    0.1323    0.2336       741\n",
            "           7     0.3716    0.3610    0.3663       421\n",
            "           8     0.7231    0.9148    0.8077      1233\n",
            "\n",
            "    accuracy                         0.6854      7180\n",
            "   macro avg     0.6613    0.5759    0.5663      7180\n",
            "weighted avg     0.7391    0.6854    0.6634      7180\n",
            "\n",
            "Confusion matrix saved to: /content/drive/MyDrive/NCA/results/cm_CNN_64x64.png\n",
            "NCA:\n",
            "\n",
            "NCA @ 64x64\n",
            "Overall Accuracy: 0.7060\n",
            "Balanced Accuracy: 0.6237\n",
            "Brier Score: 0.4625\n",
            "NLL (Cross-Entropy)  : 1.3229\n",
            "Mean Absolute Error (MAE): 0.9022\n",
            "              precision    recall  f1-score   support\n",
            "\n",
            "           0     0.9493    0.9507    0.9500      1338\n",
            "           1     0.9398    0.9953    0.9667       847\n",
            "           2     0.2717    0.9528    0.4228       339\n",
            "           3     0.9936    0.2445    0.3924       634\n",
            "           4     0.8821    0.8386    0.8598      1035\n",
            "           5     0.4670    0.1436    0.2196       592\n",
            "           6     0.7946    0.4332    0.5607       741\n",
            "           7     0.9623    0.1211    0.2152       421\n",
            "           8     0.5828    0.9335    0.7176      1233\n",
            "\n",
            "    accuracy                         0.7060      7180\n",
            "   macro avg     0.7603    0.6237    0.5894      7180\n",
            "weighted avg     0.7925    0.7060    0.6814      7180\n",
            "\n",
            "Confusion matrix saved to: /content/drive/MyDrive/NCA/results/cm_NCA_64x64.png\n",
            "\n",
            "==============================\n",
            "Resolution: 128x128\n",
            "CNN:\n",
            "\n",
            "CNN @ 128x128\n",
            "Overall Accuracy: 0.5142\n",
            "Balanced Accuracy: 0.4353\n",
            "Brier Score: 0.7513\n",
            "NLL (Cross-Entropy)  : 3.1925\n",
            "Mean Absolute Error (MAE): 1.4898\n",
            "              precision    recall  f1-score   support\n",
            "\n",
            "           0     0.9848    0.3886    0.5573      1338\n",
            "           1     0.9603    1.0000    0.9798       847\n",
            "           2     0.1801    0.3953    0.2475       339\n",
            "           3     0.0000    0.0000    0.0000       634\n",
            "           4     0.5472    0.9401    0.6918      1035\n",
            "           5     0.0667    0.0878    0.0758       592\n",
            "           6     1.0000    0.0283    0.0551       741\n",
            "           7     0.4460    0.2257    0.2997       421\n",
            "           8     0.4852    0.8516    0.6182      1233\n",
            "\n",
            "    accuracy                         0.5142      7180\n",
            "   macro avg     0.5189    0.4353    0.3917      7180\n",
            "weighted avg     0.6024    0.5142    0.4665      7180\n",
            "\n",
            "Confusion matrix saved to: /content/drive/MyDrive/NCA/results/cm_CNN_128x128.png\n",
            "NCA:\n",
            "\n",
            "NCA @ 128x128\n",
            "Overall Accuracy: 0.4461\n",
            "Balanced Accuracy: 0.3986\n",
            "Brier Score: 0.8728\n",
            "NLL (Cross-Entropy)  : 3.0625\n",
            "Mean Absolute Error (MAE): 1.8036\n",
            "              precision    recall  f1-score   support\n",
            "\n",
            "           0     1.0000    0.4888    0.6566      1338\n",
            "           1     0.6909    0.9764    0.8092       847\n",
            "           2     0.3108    0.8673    0.4576       339\n",
            "           3     0.0000    0.0000    0.0000       634\n",
            "           4     0.3912    0.2744    0.3225      1035\n",
            "           5     0.2676    0.0321    0.0573       592\n",
            "           6     0.1871    0.0351    0.0591       741\n",
            "           7     0.9333    0.0333    0.0642       421\n",
            "           8     0.3162    0.8800    0.4653      1233\n",
            "\n",
            "    accuracy                         0.4461      7180\n",
            "   macro avg     0.4552    0.3986    0.3213      7180\n",
            "weighted avg     0.4893    0.4461    0.3804      7180\n",
            "\n",
            "Confusion matrix saved to: /content/drive/MyDrive/NCA/results/cm_NCA_128x128.png\n",
            "\n",
            "==============================\n",
            "Resolution: 224x224\n",
            "CNN:\n",
            "\n",
            "CNN @ 224x224\n",
            "Overall Accuracy: 0.3912\n",
            "Balanced Accuracy: 0.3256\n",
            "Brier Score: 0.9468\n",
            "NLL (Cross-Entropy)  : 4.3881\n",
            "Mean Absolute Error (MAE): 2.0942\n",
            "              precision    recall  f1-score   support\n",
            "\n",
            "           0     1.0000    0.1166    0.2088      1338\n",
            "           1     0.7778    1.0000    0.8750       847\n",
            "           2     0.1065    0.1209    0.1133       339\n",
            "           3     0.0000    0.0000    0.0000       634\n",
            "           4     0.4008    0.8802    0.5508      1035\n",
            "           5     0.0153    0.0236    0.0186       592\n",
            "           6     0.0000    0.0000    0.0000       741\n",
            "           7     0.4340    0.1639    0.2379       421\n",
            "           8     0.3620    0.6253    0.4585      1233\n",
            "\n",
            "    accuracy                         0.3912      7180\n",
            "   macro avg     0.3440    0.3256    0.2737      7180\n",
            "weighted avg     0.4298    0.3912    0.3211      7180\n",
            "\n",
            "Confusion matrix saved to: /content/drive/MyDrive/NCA/results/cm_CNN_224x224.png\n",
            "NCA:\n"
          ]
        },
        {
          "output_type": "stream",
          "name": "stderr",
          "text": [
            "/usr/local/lib/python3.11/dist-packages/sklearn/metrics/_classification.py:1565: UndefinedMetricWarning: Precision is ill-defined and being set to 0.0 in labels with no predicted samples. Use `zero_division` parameter to control this behavior.\n",
            "  _warn_prf(average, modifier, f\"{metric.capitalize()} is\", len(result))\n",
            "/usr/local/lib/python3.11/dist-packages/sklearn/metrics/_classification.py:1565: UndefinedMetricWarning: Precision is ill-defined and being set to 0.0 in labels with no predicted samples. Use `zero_division` parameter to control this behavior.\n",
            "  _warn_prf(average, modifier, f\"{metric.capitalize()} is\", len(result))\n",
            "/usr/local/lib/python3.11/dist-packages/sklearn/metrics/_classification.py:1565: UndefinedMetricWarning: Precision is ill-defined and being set to 0.0 in labels with no predicted samples. Use `zero_division` parameter to control this behavior.\n",
            "  _warn_prf(average, modifier, f\"{metric.capitalize()} is\", len(result))\n"
          ]
        },
        {
          "output_type": "stream",
          "name": "stdout",
          "text": [
            "\n",
            "NCA @ 224x224\n",
            "Overall Accuracy: 0.2302\n",
            "Balanced Accuracy: 0.2468\n",
            "Brier Score: 1.2015\n",
            "NLL (Cross-Entropy)  : 4.4813\n",
            "Mean Absolute Error (MAE): 2.3319\n",
            "              precision    recall  f1-score   support\n",
            "\n",
            "           0     0.0000    0.0000    0.0000      1338\n",
            "           1     0.2609    0.9079    0.4053       847\n",
            "           2     0.2256    0.6814    0.3390       339\n",
            "           3     0.0000    0.0000    0.0000       634\n",
            "           4     0.0370    0.0058    0.0100      1035\n",
            "           5     0.1977    0.0287    0.0501       592\n",
            "           6     0.0000    0.0000    0.0000       741\n",
            "           7     0.2910    0.1306    0.1803       421\n",
            "           8     0.2109    0.4663    0.2905      1233\n",
            "\n",
            "    accuracy                         0.2302      7180\n",
            "   macro avg     0.1359    0.2468    0.1417      7180\n",
            "weighted avg     0.1163    0.2302    0.1298      7180\n",
            "\n",
            "Confusion matrix saved to: /content/drive/MyDrive/NCA/results/cm_NCA_224x224.png\n"
          ]
        }
      ],
      "source": [
        "for size in [28, 64, 128, 224]:\n",
        "    print(f\"\\n==============================\")\n",
        "    print(f\"Resolution: {size}x{size}\")\n",
        "    loader = get_loader(size)\n",
        "\n",
        "    print(\"CNN:\")\n",
        "    evaluate(cnn, loader, name=\"CNN\", size=size)\n",
        "\n",
        "    print(\"NCA:\")\n",
        "    evaluate(nca, loader, name=\"NCA\", size=size, is_NCA=True)"
      ],
      "metadata": {
        "id": "cf3d183311fa590c",
        "outputId": "aae866fc-a3d0-4461-bfcd-f2e583697f2d",
        "colab": {
          "base_uri": "https://localhost:8080/"
        }
      },
      "id": "cf3d183311fa590c"
    },
    {
      "cell_type": "code",
      "source": [],
      "metadata": {
        "id": "MvHBZn9YuSTN"
      },
      "id": "MvHBZn9YuSTN",
      "execution_count": null,
      "outputs": []
    }
  ],
  "metadata": {
    "kernelspec": {
      "display_name": "Python 3",
      "name": "python3"
    },
    "language_info": {
      "codemirror_mode": {
        "name": "ipython",
        "version": 2
      },
      "file_extension": ".py",
      "mimetype": "text/x-python",
      "name": "python",
      "nbconvert_exporter": "python",
      "pygments_lexer": "ipython2",
      "version": "2.7.6"
    },
    "colab": {
      "provenance": [],
      "gpuType": "T4"
    },
    "accelerator": "GPU"
  },
  "nbformat": 4,
  "nbformat_minor": 5
}